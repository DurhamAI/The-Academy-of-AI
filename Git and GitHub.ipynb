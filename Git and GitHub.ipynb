{
 "cells": [
  {
   "cell_type": "markdown",
   "metadata": {},
   "source": [
    "# Git and GitHub"
   ]
  },
  {
   "cell_type": "markdown",
   "metadata": {},
   "source": [
    "## What is Git?\n",
    "Git is a version tracking software.\n",
    "\n",
    "## Initialising a repository - git init\n",
    "The definition of a repository is a place where things can be stored. In the sense of using git, a repository is set up within a directory to be used to track files within that directory, which are added to the repository.\n",
    "\n",
    "__git status__"
   ]
  },
  {
   "cell_type": "code",
   "execution_count": 1,
   "metadata": {},
   "outputs": [
    {
     "name": "stdout",
     "output_type": "stream",
     "text": [
      "Initialised empty Git repository in /home/harry/temp/studentsForAI/gith/mytrackeddir/.git/\n",
      "readme.txt\n"
     ]
    }
   ],
   "source": [
    "mkdir mytrackeddir\n",
    "cd mytrackeddir\n",
    "\n",
    "git init # initialise a repository here\n",
    "\n",
    "echo \"welcome to the repo\" > readme.txt\n",
    "ls"
   ]
  },
  {
   "cell_type": "markdown",
   "metadata": {},
   "source": [
    "## Checking which files are being tracked - git status"
   ]
  },
  {
   "cell_type": "code",
   "execution_count": 2,
   "metadata": {},
   "outputs": [
    {
     "name": "stdout",
     "output_type": "stream",
     "text": [
      "On branch master\n",
      "\n",
      "Initial commit\n",
      "\n",
      "Untracked files:\n",
      "  (use \"git add <file>...\" to include in what will be committed)\n",
      "\n",
      "\t\u001b[31mreadme.txt\u001b[m\n",
      "\n",
      "nothing added to commit but untracked files present (use \"git add\" to track)\n"
     ]
    }
   ],
   "source": [
    "git status"
   ]
  },
  {
   "cell_type": "markdown",
   "metadata": {},
   "source": [
    "## Start tracking files (staging) - git add"
   ]
  },
  {
   "cell_type": "code",
   "execution_count": 3,
   "metadata": {},
   "outputs": [
    {
     "name": "stdout",
     "output_type": "stream",
     "text": [
      "On branch master\n",
      "\n",
      "Initial commit\n",
      "\n",
      "Changes to be committed:\n",
      "  (use \"git rm --cached <file>...\" to unstage)\n",
      "\n",
      "\t\u001b[32mnew file:   readme.txt\u001b[m\n",
      "\n"
     ]
    }
   ],
   "source": [
    "git add readme.txt # add the readme to the repo (this is called STAGING that file)\n",
    "                # the file is not yet tracked\n",
    "git status"
   ]
  },
  {
   "cell_type": "markdown",
   "metadata": {},
   "source": [
    "The readme has now been staged (added to the repo) and as such is now having its changes tracked."
   ]
  },
  {
   "cell_type": "code",
   "execution_count": 4,
   "metadata": {},
   "outputs": [
    {
     "name": "stdout",
     "output_type": "stream",
     "text": [
      "rm 'readme.txt'\n"
     ]
    }
   ],
   "source": [
    "git rm --cached readme.txt # this is how to remove a file from the staging area\n",
    "#git status\n",
    "git add readme.txt # let's add it back to the staging area to work with\n",
    "#git status"
   ]
  },
  {
   "cell_type": "markdown",
   "metadata": {},
   "source": [
    "Now let's make a change to the readme.txt file and add some more files."
   ]
  },
  {
   "cell_type": "code",
   "execution_count": 5,
   "metadata": {},
   "outputs": [
    {
     "name": "stdout",
     "output_type": "stream",
     "text": [
      "On branch master\n",
      "\n",
      "Initial commit\n",
      "\n",
      "Changes to be committed:\n",
      "  (use \"git rm --cached <file>...\" to unstage)\n",
      "\n",
      "\t\u001b[32mnew file:   readme.txt\u001b[m\n",
      "\n",
      "Changes not staged for commit:\n",
      "  (use \"git add <file>...\" to update what will be committed)\n",
      "  (use \"git checkout -- <file>...\" to discard changes in working directory)\n",
      "\n",
      "\t\u001b[31mmodified:   readme.txt\u001b[m\n",
      "\n",
      "Untracked files:\n",
      "  (use \"git add <file>...\" to include in what will be committed)\n",
      "\n",
      "\t\u001b[31mfile1.txt\u001b[m\n",
      "\t\u001b[31mfile2.txt\u001b[m\n",
      "\n"
     ]
    }
   ],
   "source": [
    "echo \"newline\" >> readme.txt # edit the readme.txt file\n",
    "touch file1.txt # make a new file\n",
    "touch file2.txt # make another new file\n",
    "\n",
    "git status # check the status"
   ]
  },
  {
   "cell_type": "code",
   "execution_count": 6,
   "metadata": {},
   "outputs": [
    {
     "name": "stdout",
     "output_type": "stream",
     "text": [
      "On branch master\n",
      "\n",
      "Initial commit\n",
      "\n",
      "Changes to be committed:\n",
      "  (use \"git rm --cached <file>...\" to unstage)\n",
      "\n",
      "\t\u001b[32mnew file:   file1.txt\u001b[m\n",
      "\t\u001b[32mnew file:   file2.txt\u001b[m\n",
      "\t\u001b[32mnew file:   readme.txt\u001b[m\n",
      "\n"
     ]
    }
   ],
   "source": [
    "git add -A # add all files in the current directory to the staging area\n",
    "    # we could also have used a regular expression to specify a subset of them to stage\n",
    "git status"
   ]
  },
  {
   "cell_type": "markdown",
   "metadata": {},
   "source": [
    "## Making checkpoints - git commit"
   ]
  },
  {
   "cell_type": "markdown",
   "metadata": {},
   "source": [
    "If we want to create a milestone to indicate that we are happpy with the changes to far and we want to _commit_ to them, then we can use the __git commit__ command to save these changes.\n",
    "\n",
    "Commits require comments to explain the changes that have occured since the last commit, which we are now happy with and want to save. We follow the __-m__ tag with that comment.\n",
    "\n",
    "Committing updates the version of the file that is "
   ]
  },
  {
   "cell_type": "code",
   "execution_count": 7,
   "metadata": {},
   "outputs": [
    {
     "name": "stdout",
     "output_type": "stream",
     "text": [
      "[master (root-commit) af1b931] First commit\n",
      " 1 file changed, 2 insertions(+)\n",
      " create mode 100644 readme.txt\n",
      "On branch master\n",
      "Changes to be committed:\n",
      "  (use \"git reset HEAD <file>...\" to unstage)\n",
      "\n",
      "\t\u001b[32mnew file:   file1.txt\u001b[m\n",
      "\t\u001b[32mnew file:   file2.txt\u001b[m\n",
      "\n"
     ]
    }
   ],
   "source": [
    "git commit readme.txt -m \"First commit\" # commit the readme\n",
    "git status"
   ]
  },
  {
   "cell_type": "markdown",
   "metadata": {},
   "source": [
    "Now the readme file has been committed. Let's commit the other two files by not specifying a file as an argument."
   ]
  },
  {
   "cell_type": "code",
   "execution_count": 8,
   "metadata": {},
   "outputs": [
    {
     "name": "stdout",
     "output_type": "stream",
     "text": [
      "[master 3437e45] added the other 2 files\n",
      " 2 files changed, 0 insertions(+), 0 deletions(-)\n",
      " create mode 100644 file1.txt\n",
      " create mode 100644 file2.txt\n",
      "On branch master\n",
      "nothing to commit, working directory clean\n"
     ]
    }
   ],
   "source": [
    "git commit -m \"added the other 2 files\"\n",
    "git status"
   ]
  },
  {
   "cell_type": "markdown",
   "metadata": {},
   "source": [
    "## Resetting the staging area to some specified state - git reset"
   ]
  },
  {
   "cell_type": "markdown",
   "metadata": {},
   "source": [
    "If we make a mistake and then accidentally commit it, we can undo the last commit using __git reset --soft HEAD~__"
   ]
  },
  {
   "cell_type": "code",
   "execution_count": 9,
   "metadata": {},
   "outputs": [
    {
     "name": "stdout",
     "output_type": "stream",
     "text": [
      "On branch master\n",
      "Changes to be committed:\n",
      "  (use \"git reset HEAD <file>...\" to unstage)\n",
      "\n",
      "\t\u001b[32mnew file:   file1.txt\u001b[m\n",
      "\t\u001b[32mnew file:   file2.txt\u001b[m\n",
      "\n"
     ]
    }
   ],
   "source": [
    "git reset --soft HEAD~ # undo the last commit where we committed the two files\n",
    "git status"
   ]
  },
  {
   "cell_type": "markdown",
   "metadata": {},
   "source": [
    "## Getting help - git help"
   ]
  },
  {
   "cell_type": "code",
   "execution_count": 10,
   "metadata": {},
   "outputs": [
    {
     "name": "stdout",
     "output_type": "stream",
     "text": [
      "GIT-STATUS(1)                     Git Manual                     GIT-STATUS(1)\n",
      "\n",
      "NAME\n",
      "       git-status - Show the working tree status\n",
      "\n",
      "SYNOPSIS\n",
      "       git status [<options>...] [--] [<pathspec>...]\n",
      "\n",
      "DESCRIPTION\n",
      "       Displays paths that have differences between the index file and the\n",
      "       current HEAD commit, paths that have differences between the working\n",
      "       tree and the index file, and paths in the working tree that are not\n",
      "       tracked by Git (and are not ignored by gitignore(5)). The first are\n",
      "       what you would commit by running git commit; the second and third are\n",
      "       what you could commit by running git add before running git commit.\n",
      "\n",
      "OPTIONS\n",
      "       -s, --short\n",
      "           Give the output in the short-format.\n",
      "\n",
      "       -b, --branch\n",
      "           Show the branch and tracking info even in short-format.\n",
      "\n",
      "       --porcelain\n",
      "           Give the output in an easy-to-parse format for scripts. This is\n",
      "           similar to the short output, but will remain stable across Git\n",
      "           versions and regardless of user configuration. See below for\n",
      "           details.\n",
      "\n",
      "       --long\n",
      "           Give the output in the long-format. This is the default.\n",
      "\n",
      "       -v, --verbose\n",
      "           In addition to the names of files that have been changed, also show\n",
      "           the textual changes that are staged to be committed (i.e., like the\n",
      "           output of git diff --cached). If -v is specified twice, then also\n",
      "           show the changes in the working tree that have not yet been staged\n",
      "           (i.e., like the output of git diff).\n",
      "\n",
      "       -u[<mode>], --untracked-files[=<mode>]\n",
      "           Show untracked files.\n",
      "\n",
      "           The mode parameter is used to specify the handling of untracked\n",
      "           files. It is optional: it defaults to all, and if specified, it\n",
      "           must be stuck to the option (e.g.  -uno, but not -u no).\n",
      "\n",
      "           The possible options are:\n",
      "\n",
      "           ·   no - Show no untracked files.\n",
      "\n",
      "           ·   normal - Shows untracked files and directories.\n",
      "\n",
      "           ·   all - Also shows individual files in untracked directories.\n",
      "\n",
      "               When -u option is not used, untracked files and directories are\n",
      "               shown (i.e. the same as specifying normal), to help you avoid\n",
      "               forgetting to add newly created files. Because it takes extra\n",
      "               work to find untracked files in the filesystem, this mode may\n",
      "               take some time in a large working tree. Consider enabling\n",
      "               untracked cache and split index if supported (see git\n",
      "               update-index --untracked-cache and git update-index\n",
      "               --split-index), Otherwise you can use no to have git status\n",
      "               return more quickly without showing untracked files.\n",
      "\n",
      "               The default can be changed using the status.showUntrackedFiles\n",
      "               configuration variable documented in git-config(1).\n",
      "\n",
      "       --ignore-submodules[=<when>]\n",
      "           Ignore changes to submodules when looking for changes. <when> can\n",
      "           be either \"none\", \"untracked\", \"dirty\" or \"all\", which is the\n",
      "           default. Using \"none\" will consider the submodule modified when it\n",
      "           either contains untracked or modified files or its HEAD differs\n",
      "           from the commit recorded in the superproject and can be used to\n",
      "           override any settings of the ignore option in git-config(1) or\n",
      "           gitmodules(5). When \"untracked\" is used submodules are not\n",
      "           considered dirty when they only contain untracked content (but they\n",
      "           are still scanned for modified content). Using \"dirty\" ignores all\n",
      "           changes to the work tree of submodules, only changes to the commits\n",
      "           stored in the superproject are shown (this was the behavior before\n",
      "           1.7.0). Using \"all\" hides all changes to submodules (and suppresses\n",
      "           the output of submodule summaries when the config option\n",
      "           status.submoduleSummary is set).\n",
      "\n",
      "       --ignored\n",
      "           Show ignored files as well.\n",
      "\n",
      "       -z\n",
      "           Terminate entries with NUL, instead of LF. This implies the\n",
      "           --porcelain output format if no other format is given.\n",
      "\n",
      "       --column[=<options>], --no-column\n",
      "           Display untracked files in columns. See configuration variable\n",
      "           column.status for option syntax.--column and --no-column without\n",
      "           options are equivalent to always and never respectively.\n",
      "\n",
      "OUTPUT\n",
      "       The output from this command is designed to be used as a commit\n",
      "       template comment. The default, long format, is designed to be human\n",
      "       readable, verbose and descriptive. Its contents and format are subject\n",
      "       to change at any time.\n",
      "\n",
      "       The paths mentioned in the output, unlike many other Git commands, are\n",
      "       made relative to the current directory if you are working in a\n",
      "       subdirectory (this is on purpose, to help cutting and pasting). See the\n",
      "       status.relativePaths config option below.\n",
      "\n",
      "   Short Format\n",
      "       In the short-format, the status of each path is shown as\n",
      "\n",
      "           XY PATH1 -> PATH2\n",
      "\n",
      "       where PATH1 is the path in the HEAD, and the \" -> PATH2\" part is shown\n",
      "       only when PATH1 corresponds to a different path in the index/worktree\n",
      "       (i.e. the file is renamed). The XY is a two-letter status code.\n",
      "\n",
      "       The fields (including the ->) are separated from each other by a single\n",
      "       space. If a filename contains whitespace or other nonprintable\n",
      "       characters, that field will be quoted in the manner of a C string\n",
      "       literal: surrounded by ASCII double quote (34) characters, and with\n",
      "       interior special characters backslash-escaped.\n",
      "\n",
      "       For paths with merge conflicts, X and Y show the modification states of\n",
      "       each side of the merge. For paths that do not have merge conflicts, X\n",
      "       shows the status of the index, and Y shows the status of the work tree.\n",
      "       For untracked paths, XY are ??. Other status codes can be interpreted\n",
      "       as follows:\n",
      "\n",
      "       ·   ' ' = unmodified\n",
      "\n",
      "       ·   M = modified\n",
      "\n",
      "       ·   A = added\n",
      "\n",
      "       ·   D = deleted\n",
      "\n",
      "       ·   R = renamed\n",
      "\n",
      "       ·   C = copied\n",
      "\n",
      "       ·   U = updated but unmerged\n",
      "\n",
      "       Ignored files are not listed, unless --ignored option is in effect, in\n",
      "       which case XY are !!.\n",
      "\n",
      "           X          Y     Meaning\n",
      "           -------------------------------------------------\n",
      "                     [MD]   not updated\n",
      "           M        [ MD]   updated in index\n",
      "           A        [ MD]   added to index\n",
      "           D         [ M]   deleted from index\n",
      "           R        [ MD]   renamed in index\n",
      "           C        [ MD]   copied in index\n",
      "           [MARC]           index and work tree matches\n",
      "           [ MARC]     M    work tree changed since index\n",
      "           [ MARC]     D    deleted in work tree\n",
      "           -------------------------------------------------\n",
      "           D           D    unmerged, both deleted\n",
      "           A           U    unmerged, added by us\n",
      "           U           D    unmerged, deleted by them\n",
      "           U           A    unmerged, added by them\n",
      "           D           U    unmerged, deleted by us\n",
      "           A           A    unmerged, both added\n",
      "           U           U    unmerged, both modified\n",
      "           -------------------------------------------------\n",
      "           ?           ?    untracked\n",
      "           !           !    ignored\n",
      "           -------------------------------------------------\n",
      "\n",
      "       If -b is used the short-format status is preceded by a line\n",
      "\n",
      "       ## branchname tracking info\n",
      "\n",
      "   Porcelain Format\n",
      "       The porcelain format is similar to the short format, but is guaranteed\n",
      "       not to change in a backwards-incompatible way between Git versions or\n",
      "       based on user configuration. This makes it ideal for parsing by\n",
      "       scripts. The description of the short format above also describes the\n",
      "       porcelain format, with a few exceptions:\n",
      "\n",
      "        1. The user’s color.status configuration is not respected; color will\n",
      "           always be off.\n",
      "\n",
      "        2. The user’s status.relativePaths configuration is not respected;\n",
      "           paths shown will always be relative to the repository root.\n",
      "\n",
      "       There is also an alternate -z format recommended for machine parsing.\n"
     ]
    },
    {
     "name": "stdout",
     "output_type": "stream",
     "text": [
      "       In that format, the status field is the same, but some other things\n",
      "       change. First, the -> is omitted from rename entries and the field\n",
      "       order is reversed (e.g from -> to becomes to from). Second, a NUL\n",
      "       (ASCII 0) follows each filename, replacing space as a field separator\n",
      "       and the terminating newline (but a space still separates the status\n",
      "       field from the first filename). Third, filenames containing special\n",
      "       characters are not specially formatted; no quoting or\n",
      "       backslash-escaping is performed.\n",
      "\n",
      "CONFIGURATION\n",
      "       The command honors color.status (or status.color — they mean the same\n",
      "       thing and the latter is kept for backward compatibility) and\n",
      "       color.status.<slot> configuration variables to colorize its output.\n",
      "\n",
      "       If the config variable status.relativePaths is set to false, then all\n",
      "       paths shown are relative to the repository root, not to the current\n",
      "       directory.\n",
      "\n",
      "       If status.submoduleSummary is set to a non zero number or true\n",
      "       (identical to -1 or an unlimited number), the submodule summary will be\n",
      "       enabled for the long format and a summary of commits for modified\n",
      "       submodules will be shown (see --summary-limit option of git-\n",
      "       submodule(1)). Please note that the summary output from the status\n",
      "       command will be suppressed for all submodules when\n",
      "       diff.ignoreSubmodules is set to all or only for those submodules where\n",
      "       submodule.<name>.ignore=all. To also view the summary for ignored\n",
      "       submodules you can either use the --ignore-submodules=dirty command\n",
      "       line option or the git submodule summary command, which shows a similar\n",
      "       output but does not honor these settings.\n",
      "\n",
      "SEE ALSO\n",
      "       gitignore(5)\n",
      "\n",
      "GIT\n",
      "       Part of the git(1) suite\n",
      "\n",
      "Git 2.7.4                         06/05/2018                     GIT-STATUS(1)\n"
     ]
    }
   ],
   "source": [
    "git help status # get the man pages for the status command"
   ]
  },
  {
   "cell_type": "markdown",
   "metadata": {},
   "source": [
    "## List your logs (history of commits) - git log\n",
    "\n",
    "Each commit shows the time, date, commit message and the SHA-1 hash that identifies the file."
   ]
  },
  {
   "cell_type": "code",
   "execution_count": 11,
   "metadata": {},
   "outputs": [
    {
     "name": "stdout",
     "output_type": "stream",
     "text": [
      "\u001b[33mcommit af1b931ef89d38c9d9e2cdcf4adb93a044484170\u001b[m\n",
      "Author: haaaarryb <harryaberg@gmail.com>\n",
      "Date:   Wed Aug 15 08:17:23 2018 +0100\n",
      "\n",
      "    First commit\n"
     ]
    }
   ],
   "source": [
    "git log"
   ]
  },
  {
   "cell_type": "markdown",
   "metadata": {},
   "source": [
    "## Checking differences between files - git diff\n",
    "\n",
    "__git diff__ shows the difference between a files and its version that was last committed. Plusses show lines that were added. Minuses show lines that were deleted"
   ]
  },
  {
   "cell_type": "code",
   "execution_count": 12,
   "metadata": {},
   "outputs": [
    {
     "name": "stdout",
     "output_type": "stream",
     "text": [
      "\u001b[1mdiff --git a/readme.txt b/readme.txt\u001b[m\n",
      "\u001b[1mindex 3354a0e..a1a3722 100644\u001b[m\n",
      "\u001b[1m--- a/readme.txt\u001b[m\n",
      "\u001b[1m+++ b/readme.txt\u001b[m\n",
      "\u001b[36m@@ -1,2 +1,3 @@\u001b[m\n",
      " welcome to the repo\u001b[m\n",
      " newline\u001b[m\n",
      "\u001b[32m+\u001b[m\u001b[32manother new line\u001b[m\n"
     ]
    }
   ],
   "source": [
    "echo \"another new line\" >> readme.txt\n",
    "git diff readme.txt"
   ]
  },
  {
   "cell_type": "markdown",
   "metadata": {},
   "source": [
    "## Restoring files to their last commit\n",
    "\n",
    "We might really mess up a file and not know how, but we can always "
   ]
  },
  {
   "cell_type": "code",
   "execution_count": 13,
   "metadata": {},
   "outputs": [
    {
     "name": "stdout",
     "output_type": "stream",
     "text": [
      "welcome to the repo\n",
      "newline\n",
      "another new line\n",
      "welcome to the repo\n",
      "newline\n"
     ]
    }
   ],
   "source": [
    "cat readme.txt # show the file contents\n",
    "git checkout readme.txt # revert readme.txt back to its last commit\n",
    "git diff # show the difference between last commit (NONE)\n",
    "cat readme.txt #'another new line# has been removed"
   ]
  },
  {
   "cell_type": "markdown",
   "metadata": {},
   "source": [
    "## Making sure to not track certain files\n",
    "\n",
    "What about files that you don't want to track? For example images or outputs of programs.\n",
    "\n",
    "You can create a __.gitignore__ file that contains names of files and directories that should not be tracked. Even when you do _git add -A_, anything matching expressions in the .gitignore file will not be staged. \n",
    "\n",
    "The .gitignore file can contain regular expressions. E.g. echo \"*.jpg\" >> .gitignore would make all JPEG images not be tracked.\n",
    "\n",
    "Each line in the /gitignore file represents one file, directory or regulare expression that specify things not to be tracked."
   ]
  },
  {
   "cell_type": "code",
   "execution_count": 14,
   "metadata": {},
   "outputs": [
    {
     "name": "stdout",
     "output_type": "stream",
     "text": [
      "On branch master\n",
      "Changes to be committed:\n",
      "  (use \"git reset HEAD <file>...\" to unstage)\n",
      "\n",
      "\t\u001b[32mnew file:   file1.txt\u001b[m\n",
      "\t\u001b[32mnew file:   file2.txt\u001b[m\n",
      "\n",
      "Untracked files:\n",
      "  (use \"git add <file>...\" to include in what will be committed)\n",
      "\n",
      "\t\u001b[31moutputfile.txt\u001b[m\n",
      "\n",
      "On branch master\n",
      "Changes to be committed:\n",
      "  (use \"git reset HEAD <file>...\" to unstage)\n",
      "\n",
      "\t\u001b[32mnew file:   file1.txt\u001b[m\n",
      "\t\u001b[32mnew file:   file2.txt\u001b[m\n",
      "\n",
      "Untracked files:\n",
      "  (use \"git add <file>...\" to include in what will be committed)\n",
      "\n",
      "\t\u001b[31m.gitignore\u001b[m\n",
      "\n"
     ]
    }
   ],
   "source": [
    "touch outputfile.txt # create a file\n",
    "git status # see that is is ready to be staged\n",
    "echo \"outputfile.txt\" >> .gitignore\n",
    "git status"
   ]
  },
  {
   "cell_type": "code",
   "execution_count": 15,
   "metadata": {},
   "outputs": [
    {
     "name": "stdout",
     "output_type": "stream",
     "text": [
      "[master c840f64] added .gitignore file\n",
      " 3 files changed, 1 insertion(+)\n",
      " create mode 100644 .gitignore\n",
      " create mode 100644 file1.txt\n",
      " create mode 100644 file2.txt\n",
      "On branch master\n",
      "nothing to commit, working directory clean\n"
     ]
    }
   ],
   "source": [
    "git add .gitignore # start tracking the .gitignore file\n",
    "git commit -m \"added .gitignore file\" # commit the gitignore file\n",
    "git status"
   ]
  },
  {
   "cell_type": "markdown",
   "metadata": {},
   "source": [
    "## Branching\n",
    "\n",
    "Branching allows you to make a copy of elements of a repository, on a separate _branch_, where changes do not affect other branches.\n",
    "\n",
    "Branching allows multiple people to work on new code at the same time without the updates interfering with each other.\n",
    "\n",
    "__git branch__ lists all available branches. The asterisk (\\*) indicates the branch that you are currently working on.\n",
    "\n",
    "After different branches have been worked on, they can be merged into the master branch so that the changes are included there."
   ]
  },
  {
   "cell_type": "code",
   "execution_count": 16,
   "metadata": {},
   "outputs": [
    {
     "name": "stdout",
     "output_type": "stream",
     "text": [
      "* \u001b[32mmaster\u001b[m\n"
     ]
    }
   ],
   "source": [
    "git branch"
   ]
  },
  {
   "cell_type": "markdown",
   "metadata": {},
   "source": [
    "Make a new branch by following git branch with the name of your new branch. This does not put you working on this branch."
   ]
  },
  {
   "cell_type": "code",
   "execution_count": 17,
   "metadata": {},
   "outputs": [
    {
     "name": "stdout",
     "output_type": "stream",
     "text": [
      "* \u001b[32mmaster\u001b[m\n",
      "  mynewbranch\u001b[m\n"
     ]
    }
   ],
   "source": [
    "git branch mynewbranch\n",
    "git branch # list all available branches"
   ]
  },
  {
   "cell_type": "markdown",
   "metadata": {},
   "source": [
    "Move to working on another branch by using __git checkout__ followed by the name of the branch you want to move onto."
   ]
  },
  {
   "cell_type": "code",
   "execution_count": 18,
   "metadata": {},
   "outputs": [
    {
     "name": "stdout",
     "output_type": "stream",
     "text": [
      "Switched to branch 'mynewbranch'\n",
      "  master\u001b[m\n",
      "* \u001b[32mmynewbranch\u001b[m\n"
     ]
    }
   ],
   "source": [
    "git checkout mynewbranch\n",
    "git branch"
   ]
  },
  {
   "cell_type": "markdown",
   "metadata": {},
   "source": [
    "We can delete a branch (that is not master) by using __git branch -d__ followed by the branch you want to delete."
   ]
  },
  {
   "cell_type": "code",
   "execution_count": 19,
   "metadata": {},
   "outputs": [
    {
     "name": "stdout",
     "output_type": "stream",
     "text": [
      "Switched to branch 'master'\n",
      "Deleted branch mynewbranch (was c840f64).\n",
      "* \u001b[32mmaster\u001b[m\n"
     ]
    }
   ],
   "source": [
    "git checkout master # move onto the master branch\n",
    "git branch -d mynewbranch # delete mynewbranch\n",
    "git branch # check available branches"
   ]
  },
  {
   "cell_type": "markdown",
   "metadata": {},
   "source": [
    "We can create a branch __and__ switch onto it at the same time by using __git checkout -b__ followed by the branch name."
   ]
  },
  {
   "cell_type": "code",
   "execution_count": 20,
   "metadata": {},
   "outputs": [
    {
     "name": "stdout",
     "output_type": "stream",
     "text": [
      "Switched to a new branch 'newestbranch'\n",
      "  master\u001b[m\n",
      "* \u001b[32mnewestbranch\u001b[m\n"
     ]
    }
   ],
   "source": [
    "git checkout -b newestbranch # create this branch AND move onto it\n",
    "git branch # check which branch we are on"
   ]
  },
  {
   "cell_type": "code",
   "execution_count": 21,
   "metadata": {},
   "outputs": [
    {
     "name": "stdout",
     "output_type": "stream",
     "text": [
      "On branch newestbranch\n",
      "Changes not staged for commit:\n",
      "  (use \"git add <file>...\" to update what will be committed)\n",
      "  (use \"git checkout -- <file>...\" to discard changes in working directory)\n",
      "\n",
      "\t\u001b[31mmodified:   file1.txt\u001b[m\n",
      "\n",
      "no changes added to commit (use \"git add\" and/or \"git commit -a\")\n",
      "[newestbranch 0b3555d] line added\n",
      " 1 file changed, 1 insertion(+)\n",
      "On branch newestbranch\n",
      "nothing to commit, working directory clean\n"
     ]
    }
   ],
   "source": [
    "echo \"the fresh new line\" > file1.txt\n",
    "git status\n",
    "git add -A\n",
    "git commit -m \"line added\"\n",
    "git status"
   ]
  },
  {
   "cell_type": "markdown",
   "metadata": {},
   "source": [
    "Now lets move to the master branch and check the contents of that file we changed."
   ]
  },
  {
   "cell_type": "code",
   "execution_count": 22,
   "metadata": {},
   "outputs": [
    {
     "name": "stdout",
     "output_type": "stream",
     "text": [
      "Switched to branch 'master'\n"
     ]
    }
   ],
   "source": [
    "git checkout master\n",
    "\n",
    "cat file1.txt"
   ]
  },
  {
   "cell_type": "markdown",
   "metadata": {},
   "source": [
    "There\\'s nothing in file1.txt! But it hasn\\'t been lost - it\\'s just on the other branch."
   ]
  },
  {
   "cell_type": "code",
   "execution_count": 23,
   "metadata": {},
   "outputs": [
    {
     "name": "stdout",
     "output_type": "stream",
     "text": [
      "* \u001b[32mmaster\u001b[m\n",
      "  newestbranch\u001b[m\n",
      "Switched to branch 'newestbranch'\n",
      "  master\u001b[m\n",
      "* \u001b[32mnewestbranch\u001b[m\n",
      "the fresh new line\n"
     ]
    }
   ],
   "source": [
    "git branch\n",
    "git checkout newestbranch\n",
    "git branch\n",
    "\n",
    "cat file1.txt # see that the line is still there"
   ]
  },
  {
   "cell_type": "markdown",
   "metadata": {},
   "source": [
    "Now we can combine this branch with the master by using __git merge__ followed by the name of the branch that we want to merge."
   ]
  },
  {
   "cell_type": "code",
   "execution_count": 24,
   "metadata": {},
   "outputs": [
    {
     "name": "stdout",
     "output_type": "stream",
     "text": [
      "Already up-to-date.\n",
      "  master\u001b[m\n",
      "* \u001b[32mnewestbranch\u001b[m\n",
      "the fresh new line\n"
     ]
    }
   ],
   "source": [
    "git merge newestbranch\n",
    "git branch\n",
    "cat file1.txt"
   ]
  },
  {
   "cell_type": "code",
   "execution_count": 25,
   "metadata": {},
   "outputs": [
    {
     "name": "stdout",
     "output_type": "stream",
     "text": [
      "Switched to branch 'master'\n",
      "On branch master\n",
      "Changes not staged for commit:\n",
      "  (use \"git add <file>...\" to update what will be committed)\n",
      "  (use \"git checkout -- <file>...\" to discard changes in working directory)\n",
      "\n",
      "\t\u001b[31mmodified:   file1.txt\u001b[m\n",
      "\n",
      "no changes added to commit (use \"git add\" and/or \"git commit -a\")\n",
      "On branch master\n",
      "Changes to be committed:\n",
      "  (use \"git reset HEAD <file>...\" to unstage)\n",
      "\n",
      "\t\u001b[32mmodified:   file1.txt\u001b[m\n",
      "\n",
      "[master 0824f23] fresh changed to funky\n",
      " 1 file changed, 1 insertion(+)\n",
      "Auto-merging file1.txt\n",
      "CONFLICT (content): Merge conflict in file1.txt\n",
      "Automatic merge failed; fix conflicts and then commit the result.\n"
     ]
    },
    {
     "ename": "",
     "evalue": "1",
     "output_type": "error",
     "traceback": []
    }
   ],
   "source": [
    "git checkout master # switch to master branch\n",
    "echo \"the funky new line\" > file1.txt # now there will be a conflict between the branch and the master\n",
    "    # branches will not be able to be merged\n",
    "git status\n",
    "git add -A\n",
    "git status\n",
    "git commit -m \"fresh changed to funky\"\n",
    "git merge newestbranch"
   ]
  },
  {
   "cell_type": "markdown",
   "metadata": {},
   "source": [
    "In the penultimate line above, we can see that there is a conflict between the branches in file1.txt.\n",
    "\n",
    "Let's take a look at that conflict from the command line using the __cat__ command. This shows the differences between versions of that file in different branches, if there are any.\n",
    "\n",
    "The HEAD represents the the most recent commit on the currently checked out branch."
   ]
  },
  {
   "cell_type": "code",
   "execution_count": 26,
   "metadata": {},
   "outputs": [
    {
     "name": "stdout",
     "output_type": "stream",
     "text": [
      "<<<<<<< HEAD\n",
      "the funky new line\n",
      "=======\n",
      "the fresh new line\n",
      ">>>>>>> newestbranch\n"
     ]
    }
   ],
   "source": [
    "cat file1.txt"
   ]
  },
  {
   "cell_type": "code",
   "execution_count": 27,
   "metadata": {},
   "outputs": [
    {
     "name": "stdout",
     "output_type": "stream",
     "text": [
      "the funky new line\n",
      "On branch master\n",
      "You have unmerged paths.\n",
      "  (fix conflicts and run \"git commit\")\n",
      "\n",
      "Unmerged paths:\n",
      "  (use \"git add <file>...\" to mark resolution)\n",
      "\n",
      "\t\u001b[31mboth modified:   file1.txt\u001b[m\n",
      "\n",
      "no changes added to commit (use \"git add\" and/or \"git commit -a\")\n",
      "[master 3d174ab] resolved conflict\n"
     ]
    }
   ],
   "source": [
    "# we are still on the master branch\n",
    "echo \"the funky new line\" > file1.txt # overwrite the file with the same line as in the \n",
    "cat file1.txt # now this only shows the content of the file which is the same in both branches, \n",
    "git status\n",
    "git add file1.txt\n",
    "git commit -m 'resolved conflict'"
   ]
  },
  {
   "cell_type": "markdown",
   "metadata": {},
   "source": [
    "Now there are not conflicts and we can merge the branches together."
   ]
  },
  {
   "cell_type": "code",
   "execution_count": 31,
   "metadata": {},
   "outputs": [
    {
     "name": "stdout",
     "output_type": "stream",
     "text": [
      "Already on 'newestbranch'\n",
      "Updating 0b3555d..3d174ab\n",
      "Fast-forward\n",
      " file1.txt | 2 \u001b[32m+\u001b[m\u001b[31m-\u001b[m\n",
      " 1 file changed, 1 insertion(+), 1 deletion(-)\n"
     ]
    }
   ],
   "source": [
    "git checkout newestbranch\n",
    "git merge master # merge the branches"
   ]
  },
  {
   "cell_type": "markdown",
   "metadata": {},
   "source": [
    "# GitHub\n",
    "\n",
    "GitHub is an online platform for sharing code and collaborating with others.\n",
    "\n",
    "Once logged on you can click the plus icon to add a repository. \n",
    "\n",
    "__Create a repository called '_myrepo_' now__\n",
    "\n",
    "# add some images\n",
    "\n",
    "GitHub provides a __remote__ repository, as oppose to your __local__ repo which has been created on your machine.\n",
    "\n",
    "__git remote__ lists the remote repositories  our local repo is connected to. currently it will print nothing because our local repo is not connected to any remote repositories."
   ]
  },
  {
   "cell_type": "code",
   "execution_count": 33,
   "metadata": {},
   "outputs": [],
   "source": [
    "git remote # prints nothing\n",
    "git remote add origin https://github.com/haaaarryb/myrepo.git # add the remote repo you just created\n",
    "    # make sure to replace my username with your own github username (just copy the prompted URL after creating the repo)"
   ]
  },
  {
   "cell_type": "markdown",
   "metadata": {},
   "source": [
    "Above we assign the name origin to a remote repo. Below we call __git remote__ to confirm that origin was added as a remote repository.\n",
    "\n",
    "So __origin__ is the remote repo and __master__ is the main local repository."
   ]
  },
  {
   "cell_type": "code",
   "execution_count": 34,
   "metadata": {},
   "outputs": [
    {
     "name": "stdout",
     "output_type": "stream",
     "text": [
      "origin\n"
     ]
    }
   ],
   "source": [
    "git remote # now origin will be shown as a remote repo"
   ]
  },
  {
   "cell_type": "markdown",
   "metadata": {},
   "source": [
    "## Updating remote repositories - git push\n",
    "\n",
    "The command __git push__ updates connected remote repos with all of the latest commits.\n",
    "\n",
    "Use __git push -u__ followed by the repo \n",
    "\n",
    "Let's push this __commit__ to the remote _newestbranch_ branch on github using the __git push__ command. Not anyone can push to your repo, so you will have to execute the next command from your terminal, where you will then be prompted for your \n",
    "\n",
    "We have to specify which remote we are pushing to GitHub. Only the commits on the current branch are sent to the remote repository. This allows us to create branches from code that can not be seen or accessed from the remote repo."
   ]
  },
  {
   "cell_type": "code",
   "execution_count": 35,
   "metadata": {},
   "outputs": [
    {
     "name": "stdout",
     "output_type": "stream",
     "text": [
      "Username for 'https://github.com': \r\n"
     ]
    }
   ],
   "source": [
    "git push origin newestbranch # go to your terminal and run this command - you will be prompted to enter your login details"
   ]
  },
  {
   "cell_type": "markdown",
   "metadata": {},
   "source": [
    "## add image of branch appearing on github"
   ]
  },
  {
   "cell_type": "markdown",
   "metadata": {},
   "source": [
    "## Pull requests\n",
    "\n",
    "A pull request essentially allows someone to ask someone else if they're willing to incorporate changes from one branch into another. It is like a git merge facilitated by GitHub.\n",
    "\n",
    "Let's initiate a pull request on ourselves just as a demo to show how they work.\n",
    "\n",
    "# Add image of pull request being made on github\n",
    "\n",
    "The _base_ branch is the one that changes will be merged into. The _compare_ branch is the one that includes the changes that you want to merge into the base.\n",
    "You can add comments and other stuff too. The comments section is a markdown file.\n",
    "\n",
    "# show some markdown syntax\n",
    "\n",
    "Commits that are made to the compare branch of the pull request will be reflected even if they are made after the request is.\n",
    "\n",
    "Other people can change files within the project that you are working on. To make sure that your local repo is up to date with these changes, you should __pull__ these changes from GitHub onto your local version of that branch (this requires login details, so you'll have to do this from your terminal rather than here in the notebook):"
   ]
  },
  {
   "cell_type": "code",
   "execution_count": null,
   "metadata": {},
   "outputs": [],
   "source": [
    "git pull # run this command in your terminal and enter your login details."
   ]
  },
  {
   "cell_type": "markdown",
   "metadata": {},
   "source": [
    "Git now finds the our branch in the remote repo and updates our local repo with the new commits which exist there. "
   ]
  },
  {
   "cell_type": "markdown",
   "metadata": {},
   "source": [
    "## Copying someone's code to edit it - Forking\n",
    "\n",
    "Forking is copying someone else's code, by copying their GitHub repo into your own account where you can edit it how you like. You can then even submit a pull request to ask to incorporate your changes into the original repo which you forked from.\n",
    "\n",
    "Fork a repository by finding that repo on GitHub and then clicking the 'clone or download' button, then copy the URL and go to your terminal and run the __git clone__ command with that URL as an argument as the link to the repo that you want to clone:"
   ]
  },
  {
   "cell_type": "code",
   "execution_count": null,
   "metadata": {},
   "outputs": [],
   "source": [
    "git clone <your repo URL>"
   ]
  },
  {
   "cell_type": "markdown",
   "metadata": {},
   "source": [
    "# Cleanup - run the below cells to delete the directory and return to the orignal state before this tutorial"
   ]
  },
  {
   "cell_type": "code",
   "execution_count": 2,
   "metadata": {
    "scrolled": true
   },
   "outputs": [
    {
     "name": "stdout",
     "output_type": "stream",
     "text": [
      "bash: cd: ../mytrackeddir: No such file or directory\n",
      "rm: cannot remove 'images': Is a directory\n",
      "rm: cannot remove 'journal': Is a directory\n",
      "rm: cannot remove 'manyfiles': Is a directory\n",
      "rm: cannot remove 'mytrackeddir': Is a directory\n",
      "rm: cannot remove 't': Is a directory\n",
      "images\tjournal  manyfiles  mytrackeddir  t\n"
     ]
    }
   ],
   "source": [
    "cd ../mytrackeddir && rm * # move into the mytrackeddir directory and if that is successful, empty it"
   ]
  },
  {
   "cell_type": "code",
   "execution_count": 3,
   "metadata": {},
   "outputs": [],
   "source": [
    "cd .. && rm -rf mytrackeddir # remove the directory used for this tutorial"
   ]
  }
 ],
 "metadata": {
  "kernelspec": {
   "display_name": "Bash",
   "language": "bash",
   "name": "bash"
  },
  "language_info": {
   "codemirror_mode": "shell",
   "file_extension": ".sh",
   "mimetype": "text/x-sh",
   "name": "bash"
  }
 },
 "nbformat": 4,
 "nbformat_minor": 2
}
