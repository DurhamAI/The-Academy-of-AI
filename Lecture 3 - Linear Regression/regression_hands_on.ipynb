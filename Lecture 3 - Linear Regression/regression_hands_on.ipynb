{
 "cells": [
  {
   "cell_type": "markdown",
   "metadata": {},
   "source": [
    "# Demo: Linear Models\n",
    "- [Problem Statement](#Problem-Statement)\n",
    "- [Solution](#Solution)\n",
    "    1. [Initialise Libraries](#initialise-libraries)\n",
    "    2. [Create Helper Functions](#helper-functions)\n",
    "        - [Visualization](#visualization)\n",
    "        - [Data Extraction](#data-extraction)\n",
    "        - [Normalise](#normalise)\n",
    "        - [Model](#model)\n",
    "        - [Loss Function](#loss)\n",
    "        - [Gradient Descent](#gradient-descent)\n",
    "    3. [Train Model](#train-model)\n",
    "        - [Initialise Training Variables](#initialise)\n",
    "        - [Training Script](#training-script)\n",
    "        - [Plot Graph](#plot-graph)"
   ]
  },
  {
   "cell_type": "markdown",
   "metadata": {},
   "source": [
    "# Problem Statement"
   ]
  },
  {
   "cell_type": "markdown",
   "metadata": {},
   "source": [
    "A real estate consultancy is carrying out an investigation on the trend of recent housing prices based on the size of the house (in square feet) and number of rooms of the property. The data they collected from 47 houses indicates that a linear model that fits this trend. Verify this by plotting the loss of a **multivariate linear model**.\n",
    "\n",
    "$$\\hat{y^{(i)}}=w_{0}+w_{1}*x_{1}^{(i)}+w_{2}*x_{2}^{(i)}$$ \n",
    "\n",
    "In matrix form,\n",
    "\n",
    "$$\\mathbf{\\hat{y}}=\\mathbf{X}\\mathbf{W}=\\begin{bmatrix}1 & x_{1}^{(1)} & x_{2}^{(1)}\\\\ \\vdots& \\vdots&\\vdots\\\\ 1 & x_{1}^{(m)} & x_{2}^{(m)}\\end{bmatrix}\\begin{bmatrix}w_{0} \\\\ w_{1}\\\\w_{2} \\end{bmatrix}$$ \n",
    "\n",
    "The dataset is visualized below: \n",
    "\n",
    "| Size of House (in square feet)  | Number of rooms | Price of house (in USD) |\n",
    "| ------------------------------- | --------------- | ----------------------- |\n",
    "|             2104                |        3        |        399900           |\n",
    "|             1600                |        3        |        329900           |\n",
    "|             2400                |        3        |        369000           |\n",
    "|             1416                |        2        |        232000           |"
   ]
  },
  {
   "cell_type": "markdown",
   "metadata": {},
   "source": [
    "# Solution"
   ]
  },
  {
   "cell_type": "markdown",
   "metadata": {},
   "source": [
    "## 1. Initialise Libraries <a class=\"anchor\" id=\"initialise-libraries\"></a>\n",
    "Essential libraries for linear algebra operations and visualization."
   ]
  },
  {
   "cell_type": "code",
   "execution_count": 1,
   "metadata": {},
   "outputs": [],
   "source": [
    "# scientific computing library\n",
    "import numpy as np\n",
    "\n",
    "# visualization tools\n",
    "import matplotlib.pyplot as plt\n",
    "\n",
    "# show plots without need of calling `.show()`\n",
    "%matplotlib inline\n",
    "\n",
    "# prettify plots\n",
    "plt.rcParams['figure.figsize'] = [20, 10]\n",
    "\n",
    "# supress warnings\n",
    "import warnings\n",
    "warnings.filterwarnings('ignore')"
   ]
  },
  {
   "cell_type": "markdown",
   "metadata": {},
   "source": [
    "## 2. Create Helper Functions<a class=\"anchor\" id=\"helper-functions\"></a>"
   ]
  },
  {
   "cell_type": "markdown",
   "metadata": {},
   "source": [
    "### Visualization Function<a class=\"anchor\" id=\"visualization\"></a>"
   ]
  },
  {
   "cell_type": "code",
   "execution_count": 2,
   "metadata": {},
   "outputs": [],
   "source": [
    "def visualize(x, y=None, y_hat=None):\n",
    "    plt.xlabel(\"Number of iterations\")\n",
    "    if y is not None:\n",
    "        plt.plot(x, y, '-', label='Loss')\n",
    "    plt.legend()\n",
    "    plt.show()"
   ]
  },
  {
   "cell_type": "markdown",
   "metadata": {},
   "source": [
    "### Data Extraction<a class=\"anchor\" id=\"data-extraction\"></a>"
   ]
  },
  {
   "cell_type": "code",
   "execution_count": 3,
   "metadata": {},
   "outputs": [],
   "source": [
    "#function to load files\n",
    "def loader(filename):\n",
    "    c=np.loadtxt('./data/%s.txt' % filename, delimiter=',')\n",
    "    x=c[:,:-1] #extract every column except the last column\n",
    "    y=c[:,-1] #extract the last column\n",
    "    return x,y"
   ]
  },
  {
   "cell_type": "markdown",
   "metadata": {},
   "source": [
    "### <font color=\"red\">!</font> Normalise Function<a class=\"anchor\" id=\"normalise\"></a>\n",
    "$$x_{j}=\\frac{x_{j}-\\mu_{j}}{\\sigma_{j}}$$"
   ]
  },
  {
   "cell_type": "code",
   "execution_count": 4,
   "metadata": {},
   "outputs": [],
   "source": [
    "def normalise(X):\n",
    "    #TO-DO#\n",
    "    #Implement normalisation function that normalises the features to be within the same range\n",
    "    #Make use of np.mean() and np.std() with axis=0 to find the mean and standard deviations of each feature.\n",
    "    \n",
    "    return normalised_x"
   ]
  },
  {
   "cell_type": "markdown",
   "metadata": {},
   "source": [
    "### <font color=\"red\">!</font> Model Function<a class=\"anchor\" id=\"model\"></a>\n",
    "$$\\mathbf{\\hat{y}}=\\mathbf{X}*\\mathbf{W}$$"
   ]
  },
  {
   "cell_type": "code",
   "execution_count": 5,
   "metadata": {},
   "outputs": [],
   "source": [
    "def multi_linear_model(W,X):\n",
    "    #TO-DO#\n",
    "    #Implement function that outputs y_hat for a m x n size dataset of x and n x 1 size array of weights\n",
    "    #HINT: Make use of np.dot() dot product function\n",
    "    \n",
    "    return y_hat"
   ]
  },
  {
   "cell_type": "markdown",
   "metadata": {},
   "source": [
    "### <font color=\"red\">!</font> Loss Function- Mean Square Error<a class=\"anchor\" id=\"loss\"></a>\n",
    "\n",
    "$$MSE = \\frac{1}{2m} (\\mathbf{y} - \\mathbf{\\hat{y}})^{\\mathbf{T}}(\\mathbf{y} - \\mathbf{\\hat{y}})$$"
   ]
  },
  {
   "cell_type": "code",
   "execution_count": 6,
   "metadata": {},
   "outputs": [],
   "source": [
    "def calculate_MSE(y, y_hat,size):\n",
    "    #TO-DO#\n",
    "    #Calculate the mean squared error based on the difference between model predictions and observed data.\n",
    "    #HINT: It is EXACTLY the same as for simple linear regression. Literally.\n",
    "    \n",
    "    return loss"
   ]
  },
  {
   "cell_type": "markdown",
   "metadata": {},
   "source": [
    "### <font color=\"red\">!</font> Gradient Descent Algorithm<a class=\"anchor\" id=\"gradient-descent\"></a>\n",
    "$$\\mathbf{W} = \\mathbf{W} - \\alpha \\frac{1}{m}\\mathbf{X}^{\\mathbf{T}}(\\mathbf{\\hat{y}} - \\mathbf{{y}})$$\n"
   ]
  },
  {
   "cell_type": "code",
   "execution_count": 11,
   "metadata": {},
   "outputs": [],
   "source": [
    "def gradient_descent(W,X,y,y_hat,size,learning_rate=0.01):\n",
    "    #TO-DO#\n",
    "    #Implement function that adjusts the n x 1 weight matrix, W based on the gradient descent algorithm\n",
    "    #HINT: Make use of np.dot() dot product function and np.transpose() that transposes the matrix\n",
    "    \n",
    "    return W"
   ]
  },
  {
   "cell_type": "markdown",
   "metadata": {},
   "source": [
    "## 3. Train Model<a class=\"anchor\" id=\"train-model\"></a>"
   ]
  },
  {
   "cell_type": "markdown",
   "metadata": {},
   "source": [
    "### Initialise Training Variables<a class=\"anchor\" id=\"initialise\"></a>"
   ]
  },
  {
   "cell_type": "code",
   "execution_count": 8,
   "metadata": {},
   "outputs": [
    {
     "name": "stdout",
     "output_type": "stream",
     "text": [
      "47\n",
      "weights are:  [0.5488135  0.71518937 0.60276338]\n"
     ]
    }
   ],
   "source": [
    "#Generate X and y matrices\n",
    "X,y=loader(\"ex1data2\")\n",
    "\n",
    "#Normalise features\n",
    "X=normalise(X)\n",
    "\n",
    "n_epochs = 50 #number of iterations\n",
    "np.random.seed(0) #seeding to persist results\n",
    "m=y.size #Get total number of data samples\n",
    "\n",
    "#Add column of ones to X matrix\n",
    "X=np.hstack((np.ones(m)[:, np.newaxis], X))\n",
    "\n",
    "n=X.shape[1] #Get total number of features\n",
    "\n",
    "#Generate N Random Weights\n",
    "W=np.random.rand(n)\n",
    "print(\"weights are: \", W)\n",
    "\n",
    "#initialise arrays to track iteration number and loss\n",
    "it=[] \n",
    "loss_array=[]"
   ]
  },
  {
   "cell_type": "markdown",
   "metadata": {},
   "source": [
    "### Training Script<a class=\"anchor\" id=\"training-script\"></a>"
   ]
  },
  {
   "cell_type": "code",
   "execution_count": 9,
   "metadata": {},
   "outputs": [
    {
     "name": "stdout",
     "output_type": "stream",
     "text": [
      "0\n",
      "loss is:  65591252666.364655\n",
      "W is:  [34041.7598896  10577.02326694  5471.38461437]\n",
      "1\n",
      "loss is:  53268030664.0511\n",
      "W is:  [64678.84985809 19789.35469489  9802.84971362]\n",
      "2\n",
      "loss is:  43388905716.139404\n",
      "W is:  [92252.23082973 27837.90513982 13185.30795543]\n",
      "3\n",
      "loss is:  35457290700.17751\n",
      "W is:  [117068.2737042  34892.1939717  15778.8279439]\n",
      "4\n",
      "loss is:  29080444998.437717\n",
      "W is:  [139402.71229123  41095.82530667  17717.97889394]\n",
      "5\n",
      "loss is:  23946992575.4911\n",
      "W is:  [159503.70701955  46570.50741451  19115.83173944]\n",
      "6\n",
      "loss is:  19809504697.12851\n",
      "W is:  [177594.60227504  51419.44613656  20067.33505693]\n",
      "7\n",
      "loss is:  16470956727.16628\n",
      "W is:  [193876.40800498  55730.20992116  20652.16337666]\n",
      "8\n",
      "loss is:  13774160325.483423\n",
      "W is:  [208530.03316193  59577.14885937  20937.12022991]\n",
      "9\n",
      "loss is:  11593489904.529146\n",
      "W is:  [221718.29580319  63023.43725451  20978.16543359]\n",
      "10\n",
      "loss is:  9828384944.804935\n",
      "W is:  [233587.73218031  66122.79841334  20822.1252691 ]\n",
      "11\n",
      "loss is:  8398232004.416896\n",
      "W is:  [244270.22491973  68920.96119376  20508.13506072]\n",
      "12\n",
      "loss is:  7238322438.349826\n",
      "W is:  [253884.4683852   71456.89011805  20068.85593424]\n",
      "13\n",
      "loss is:  6296651644.526091\n",
      "W is:  [262537.28750413  73763.82434035  19531.5010174 ]\n",
      "14\n",
      "loss is:  5531378727.493936\n",
      "W is:  [270324.82471116  75870.15525347  18918.70084153]\n",
      "15\n",
      "loss is:  4908805991.891511\n",
      "W is:  [277333.60819749  77800.16787542  18249.23305997]\n",
      "16\n",
      "loss is:  4401768741.754125\n",
      "W is:  [283641.51333519  79574.66723537  17538.63767934]\n",
      "17\n",
      "loss is:  3988349771.0244665\n",
      "W is:  [289318.62795912  81211.50767019  16799.7356922 ]\n",
      "18\n",
      "loss is:  3650851405.0012765\n",
      "W is:  [294428.03112065  82726.04014954  16043.06620756]\n",
      "19\n",
      "loss is:  3374972281.2318354\n",
      "W is:  [299026.49396604  84131.49039054  15277.25481954]\n",
      "20\n",
      "loss is:  3149147212.0203447\n",
      "W is:  [303165.11052688  85439.27853364  14509.3239661 ]\n",
      "21\n",
      "loss is:  2964017182.7967615\n",
      "W is:  [306889.86543164  86659.28947175  13744.95435097]\n",
      "22\n",
      "loss is:  2812003367.744386\n",
      "W is:  [310242.14484592  87800.10150769  12988.70508592]\n",
      "23\n",
      "loss is:  2686964410.535997\n",
      "W is:  [313259.19631878  88869.17981871  12244.19901473]\n",
      "24\n",
      "loss is:  2583920448.382725\n",
      "W is:  [315974.54264434  89873.04019695  11514.27867136]\n",
      "25\n",
      "loss is:  2498830701.243202\n",
      "W is:  [318418.35433736  90817.38768278  10801.13747337]\n",
      "26\n",
      "loss is:  2428414097.32992\n",
      "W is:  [320617.78486107  91707.23398832  10106.43003302]\n",
      "27\n",
      "loss is:  2370004509.9220567\n",
      "W is:  [322597.27233241  92546.99700163   9431.3648619 ]\n",
      "28\n",
      "loss is:  2321433854.693746\n",
      "W is:  [324378.81105661  93340.58514927   8776.78223321]\n",
      "29\n",
      "loss is:  2280937631.560114\n",
      "W is:  [325982.1959084   94091.4689626    8143.21953375]\n",
      "30\n",
      "loss is:  2247078561.0626245\n",
      "W is:  [327425.24227501  94802.74182796   7530.96607326]\n",
      "31\n",
      "loss is:  2218684818.0034547\n",
      "W is:  [328723.98400495  95477.17159265   6940.10901103]\n",
      "32\n",
      "loss is:  2194800048.0445647\n",
      "W is:  [329892.8515619   96117.24443859   6370.57180003]\n",
      "33\n",
      "loss is:  2174642900.769144\n",
      "W is:  [330944.83236316  96725.20221592   5822.14632992]\n",
      "34\n",
      "loss is:  2157574252.5329432\n",
      "W is:  [331891.61508429  97303.07424325   5294.51976513]\n",
      "35\n",
      "loss is:  2143070645.9457784\n",
      "W is:  [332743.71953331  97852.70442509   4787.29691846]\n",
      "36\n",
      "loss is:  2130702757.219286\n",
      "W is:  [333510.61353742  98375.77440469   4300.01886882]\n",
      "37\n",
      "loss is:  2120117931.5970924\n",
      "W is:  [334200.81814113  98873.82335904   3832.17842073]\n",
      "38\n",
      "loss is:  2111026011.581581\n",
      "W is:  [334822.00228446  99348.26494874   3383.23290939]\n",
      "39\n",
      "loss is:  2103187831.4265072\n",
      "W is:  [335381.06801346  99800.40185576   2952.61477612]\n",
      "40\n",
      "loss is:  2096405871.3723485\n",
      "W is:  [335884.22716956 100231.4382753    2539.7402722 ]\n",
      "41\n",
      "loss is:  2090516661.9684\n",
      "W is:  [336337.07041005 100642.49067105   2144.01659279]\n",
      "42\n",
      "loss is:  2085384607.0517025\n",
      "W is:  [336744.6293265  101034.59705548   1764.84769523]\n",
      "43\n",
      "loss is:  2080896957.1525514\n",
      "W is:  [337111.43235129 101408.72501621   1401.63901584]\n",
      "44\n",
      "loss is:  2076959716.1759152\n",
      "W is:  [337441.55507361 101765.77867575   1053.80126557]\n",
      "45\n",
      "loss is:  2073494305.5067606\n",
      "W is:  [337738.6655237  102106.6047426     720.75345637]\n",
      "46\n",
      "loss is:  2070434843.0887575\n",
      "W is:  [338006.06492877 102431.99778782    401.9252861 ]\n",
      "47\n",
      "loss is:  2067725922.0486066\n",
      "W is:  [3.38246724e+05 1.02742705e+05 9.67589895e+01]\n",
      "48\n",
      "loss is:  2065320795.3064368\n",
      "W is:  [ 3.38463318e+05  1.03039430e+05 -1.95289255e+02]\n",
      "49\n",
      "loss is:  2063179890.3145266\n",
      "W is:  [338658.25207776 103322.83549091   -474.74828299]\n"
     ]
    }
   ],
   "source": [
    "#Initialise Model\n",
    "y_hat=multi_linear_model(W,X)\n",
    "\n",
    "#Iterate Training\n",
    "for _ in range(n_epochs):\n",
    "    it.append(_)\n",
    "    print(_)\n",
    "    \n",
    "    #Calculate loss\n",
    "    loss=calculate_MSE(y,y_hat,m)\n",
    "    loss_array.append(loss)\n",
    "    print(\"loss is: \",loss)\n",
    "\n",
    "    #Perform gradient descent\n",
    "    W = gradient_descent(W,X,y,y_hat,m,0.1)\n",
    "\n",
    "    #Generate new model\n",
    "    y_hat = multi_linear_model(W, X)"
   ]
  },
  {
   "cell_type": "markdown",
   "metadata": {},
   "source": [
    "### Plot graph<a class=\"anchor\" id=\"plot-graph\"></a>"
   ]
  },
  {
   "cell_type": "code",
   "execution_count": 10,
   "metadata": {},
   "outputs": [
    {
     "data": {
      "image/png": "[encoded data removed]",
      "text/plain": [
       "<Figure size 432x288 with 1 Axes>"
      ]
     },
     "metadata": {},
     "output_type": "display_data"
    }
   ],
   "source": [
    "visualize(it, loss_array)"
   ]
  },
  {
   "cell_type": "markdown",
   "metadata": {},
   "source": [
    "## Playground"
   ]
  },
  {
   "cell_type": "markdown",
   "metadata": {},
   "source": [
    "Place to try snippets of code and log the outputs."
   ]
  },
  {
   "cell_type": "code",
   "execution_count": null,
   "metadata": {},
   "outputs": [],
   "source": []
  }
 ],
 "metadata": {
  "kernelspec": {
   "display_name": "Python 3",
   "language": "python",
   "name": "python3"
  },
  "language_info": {
   "codemirror_mode": {
    "name": "ipython",
    "version": 3
   },
   "file_extension": ".py",
   "mimetype": "text/x-python",
   "name": "python",
   "nbconvert_exporter": "python",
   "pygments_lexer": "ipython3",
   "version": "3.6.6"
  }
 },
 "nbformat": 4,
 "nbformat_minor": 2
}
