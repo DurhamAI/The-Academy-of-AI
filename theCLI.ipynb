{
 "cells": [
  {
   "cell_type": "markdown",
   "metadata": {},
   "source": [
    "## Glossary\n",
    "\n",
    "\n",
    "Kernel - the very core of your operating system\n",
    "\n",
    "Shell - a program which allows the user to directly interact with the kernel\n",
    "\n",
    "Terminal/Command Line - the black window which allows a user to pass a command to the shell\n",
    "\n",
    "Directory - a folder\n",
    "\n",
    "Argument - parameters which commands take that define what they operate on or how they operate\n",
    "\n",
    "Absolute file path - location of a program including the full path from the root directory\n",
    "e.g.\n",
    "\n",
    "Relative file path - location of a program relative to your current working directory\n",
    "\n",
    "Text editor - a program which you can write files"
   ]
  },
  {
   "cell_type": "markdown",
   "metadata": {},
   "source": [
    "## Useful commands and options\n",
    "\n",
    "Try each of these out in your command line\n",
    "\n",
    "### Critical commands everyone using the CLI should know\n",
    "`ctrl+d` - closes the terminal (same as the `exit` command)\n",
    "\n",
    "`clear` - Clears the command line history <br> \n",
    "\n",
    "`echo` - returns its argument back to the command line. <br> Any phrase in quote marks (\"\") can be returned to the console.\n",
    "\n",
    "`cd` - change directory. <br> Running with no arguments returns you to your home directory. The arguments can be a relative file path (relative to this directory) or an absolute file path (its absolute location relative to the root directory) which is where you will end up after executing the command. <br>\n",
    "\n",
    "\n",
    "`ls` - list directories within the current working directory. <br>\n",
    "arguments specify a path to a file of which the children of will be displayed.<br>\n",
    "The option __-l__ lists the __long__ version of the child files that includes its permissions, the owner, the group which they belong to, date last edited, the size of the file in bytes \n",
    "\n",
    "`pwd` - print working directory\n",
    "\n",
    "`mkdir` - make a directory <br>\n",
    "First argument is the directory name.\n",
    "This name can also be prefixed by the path to the location of the new directory.\n",
    "\n",
    "`touch` - adds an empty file or updates the time at which a particular file was last edited if it already exists\n",
    "\n",
    "`mv` - move a file (first argument) to a new location (second argument)<br>\n",
    "the second argument ends with the file name of the new file in its new location - as such, the mv command can be used to rename a file  by simply changing the final part of the second argument.\n",
    "\n",
    "`cp` - copy a file to a new location (first argument)<br>\n",
    "-r option (recursive) is required for copying directories \n",
    "\n",
    "`sort` sort file line by line\n",
    "\n",
    "__history__ - shows the history of the commands entered into the terminal.<br>\n",
    "When theshell is closed, the recent commands are written to the __.bash_history__ file in the root directory. You can search this file using grep\n",
    "\n",
    "Ending any commad with a __&__ executes it in the background.\n",
    "\n",
    "Ending a command with __&&__ tells bash that you are going to pass it *another* command on the same line, immediately after\n",
    "\n",
    "See getting help for additional critical commands\n",
    "\n",
    "### Searching for files\n",
    "__find__ - finds files<br>\n",
    "-name tag finds files by name (name being the argument which follows)<br>\n",
    "Before the options are specified you can state the file location which you want to search(e.g. __find . -name myfile.txt__ searches the working directory (.) for the file called myfile.txt by name.\n",
    "\n",
    "__a period at the start of a filename makes it hidden, and it can only be seen by telling ls to show all with the -a (all) tag__\n",
    "\n",
    "\n",
    "### Searching through files\n",
    "\n",
    "__grep__ - searches through files (second argument) for the regular expression given in quote marks (first argument)\n",
    "<br>\n",
    "Name origin: __g__lobally search a __re__gular expression and __p__rint\n",
    "\n",
    "__egrep__ - extended grep (able to understand more regular expressions)<br>\n",
    "-v flag inverts a match. I.e. __egrep__ -v \"a\" file.txt searches for all lines within the file file.txt which DON'T contain the character a.<br>\n",
    "-i flag ignores case sensitivity<br>\n",
    "-n flag displays the line numbers of those lines returned<br>\n",
    "You can search through multiple files at once by listing the files consecutively after you have passed grep the regular expression.\n",
    "-o only returns the matches, not the whole lines\n",
    "\n",
    "\n",
    "### Viewing files\n",
    "__cat__ - concatenate files and return them to the console<br>\n",
    "Most commonly used for printing files to the terminal so you can see what they contain - you do not have to give two arguments, only one which will then be the only thing shown to the screen.\n",
    "\n",
    "__less__ - allows large files containing many lines of code to be viewed on the terminal<br>\n",
    "hilariously named to replace an old command with the intuitive name __more__ which did a similar thing <br>\n",
    "quit the multi page view by tapping q\n",
    "\n",
    "__head__ - show the first 10 lines of a file\n",
    "\n",
    "__tail__ - show the bottom 10 lines of a file\n",
    "\n",
    "__wc__ - word count of a file <br>\n",
    "returns number of lines, words and characters<br>\n",
    "-l, -w, -c returns only the number of lines, words, and characters respectively (along with the filename)\n",
    "\n",
    "\n",
    "### Comparing files\n",
    "\n",
    "__diff__ compares files and returns the non-matching lines to the console\n",
    "\n",
    "__sdiff__ compares two files and returns the non-matching\n",
    "\n",
    "`cmp` tells you where the files differ and by how much data\n",
    "\n",
    "#### Hashes\n",
    "A hashing program generates a unique code from the contents of a file.\n",
    "\n",
    "You can generate a hash for any file by using a command such as __shasum__ or __md5sum__\n",
    "\n",
    "### Getting help\n",
    "\n",
    "__man__ - searches the manual for documentation regarding the command entered as an argument<br>\n",
    "Once on a manual page, the __/__ can be used to search for terms by writing them after executing that command. __n__ will take you to the next instance of that term & __SHIFT+n__ will take you back to the previous instance. Pressing __q__ will return you to the prompt.\n",
    "\n",
    "__apropos__ - searches available commands and their descriptions for a term entered as an argument.<br>\n",
    "Useful for if you can't remember the name of the command you're looking for."
   ]
  },
  {
   "cell_type": "markdown",
   "metadata": {},
   "source": [
    "## How unix works\n",
    "\n",
    "### Navigating the file system\n",
    "\n",
    "Most file systems are organised in a hierarchical tree structure.\n",
    "\n",
    "![tree structure](images/tree.png)\n",
    "\n",
    "The very top of the tree is called the __root__, and is indicated by a __/__ (backslash).\n",
    "\n",
    "Your current location within the file system is called your working directory. Execute the command __pwd__ to get the shell to return your current location.\n",
    "\n",
    "When a shell is started, your __working directory__ is your home directory.\n",
    "The home directory is indicated by a ~ (tilde).\n",
    "\n",
    "`cd child_directory` changes to a directory (in this case called child_directory) within the current one\n",
    "\n",
    "The executeables for some fundamental commands are found in `/bin`\n",
    "\n",
    "When you execute a command, it's executeable is searched for firstly in your working directory, then `/bin`, then `/usr/bin`\n",
    "\n",
    "### Important files etc\n",
    "\n",
    "__.bashrc__ - Contains a list of commands which are run every time that an _interactive_ shell is launched. Not run when a shell script is run, unlike .bash_profile.\n",
    "\n",
    "__.bash_history__ - a file which stores the history of the commands which have been entered into the terminal. It is updated by being written to every time that the shell is closed.\n",
    "\n",
    "__.bash_profile__ - Contains a list of commands which are run every time that a new login shell is started i.e. when after you successfully enter your password. Commands run here are passed down to child processes.\n",
    "\n",
    ".bashrc should be sourced at the end of this file so that any aliases etc are useable by child processes.\n",
    "\n",
    "\n",
    "__interactive shell__ - reads commands from user input on a tty. Reads startup files on activation.\n",
    "\n",
    "__tty__ - In computing, tty is a command in Unix and Unix-like operating systems to print the file name of the terminal connected to standard input.[1]"
   ]
  },
  {
   "cell_type": "markdown",
   "metadata": {},
   "source": [
    "### Permissions"
   ]
  },
  {
   "cell_type": "code",
   "execution_count": 11,
   "metadata": {},
   "outputs": [
    {
     "name": "stdout",
     "output_type": "stream",
     "text": [
      "total 96\n",
      "-rw-rw-r-- 1 harry harry    17 Aug 11 16:02 aaa\n",
      "bash: ./aaa: Permission denied\n"
     ]
    },
    {
     "ename": "",
     "evalue": "126",
     "output_type": "error",
     "traceback": []
    }
   ],
   "source": [
    "rm aaa\n",
    "echo 'echo hello there' >> aaa\n",
    "\n",
    "ls -l | head -n 2\n",
    "\n",
    "./aaa # permission to execute this file is denied"
   ]
  },
  {
   "cell_type": "markdown",
   "metadata": {},
   "source": [
    "First character - hyphen for files. d for directories.\n",
    "\n",
    "Following nine characters represent the permissions for that thing.<br>\n",
    "Every 3 characters indicate whether read (r), write (w) or execute (x)\n",
    "<br>\n",
    "First 3 are the owner permissions.<br>\n",
    "Second 3 are the group permissions.<br>\n",
    "Last 3 are the permissions of others.<br>\n",
    "\n",
    "The __chmod__ command can be used to change the permissions of a file.<br>\n",
    "The first argument is a string that begins with a character representing the set of users for which the permissions will be changed, followed by how they will be changed.\n",
    "The second argument is the path to the file.\n",
    "\n",
    "![title](images/chmod.png)"
   ]
  },
  {
   "cell_type": "code",
   "execution_count": 12,
   "metadata": {},
   "outputs": [
    {
     "name": "stdout",
     "output_type": "stream",
     "text": [
      "total 96\n",
      "-rwxrw-r-- 1 harry harry    17 Aug 11 16:02 aaa\n"
     ]
    }
   ],
   "source": [
    "chmod u+x aaa\n",
    "ls -l | head -n 2"
   ]
  },
  {
   "cell_type": "markdown",
   "metadata": {},
   "source": [
    "Now we can see that permission has been granted for the owner to execute the file aaa.\n",
    "\n",
    "We can now execute the file:"
   ]
  },
  {
   "cell_type": "code",
   "execution_count": 13,
   "metadata": {},
   "outputs": [
    {
     "name": "stdout",
     "output_type": "stream",
     "text": [
      "hello there\n"
     ]
    }
   ],
   "source": [
    "./aaa # executes successfully after permission granted"
   ]
  },
  {
   "cell_type": "markdown",
   "metadata": {},
   "source": [
    "### Environmental variables\n",
    "\n",
    "Environmental variables are those whuch bash creates and stores data about your current computing environment. Their names are all capital letters."
   ]
  },
  {
   "cell_type": "code",
   "execution_count": 1,
   "metadata": {},
   "outputs": [
    {
     "name": "stdout",
     "output_type": "stream",
     "text": [
      "/home/harry\n",
      "/home/harry/temp/Students for AI/bash\n",
      "/home/harry/google-cloud-sdk/bin:/home/harry/bin:/opt/ros/kinetic/bin:/home/harry/bin:/home/harry/.local/bin:/usr/local/sbin:/usr/local/bin:/usr/sbin:/usr/bin:/sbin:/bin:/usr/games:/usr/local/games:/snap/bin\n"
     ]
    }
   ],
   "source": [
    "echo $HOME # stores home directory path\n",
    "echo $PWD # stores current directory path\n",
    "echo $PATH # contains a sequence of paths separated by colons"
   ]
  },
  {
   "cell_type": "markdown",
   "metadata": {},
   "source": [
    "The PATH variable contains paths separated by colons. When a shell is started, it searches these locations for executeable files and makes them available as commands to be used in the current shell.\n",
    "\n",
    "The __export__ command adds a variable to the environment variables for all subshells (shells initiated within this one).\n",
    "\n",
    "As such, the export command can be used to add locations to look for executeables within. By putting the following command in your "
   ]
  },
  {
   "cell_type": "code",
   "execution_count": 7,
   "metadata": {
    "scrolled": true
   },
   "outputs": [
    {
     "name": "stdout",
     "output_type": "stream",
     "text": [
      "/home/harry/google-cloud-sdk/bin:/home/harry/bin:/opt/ros/kinetic/bin:/home/harry/bin:/home/harry/.local/bin:/usr/local/sbin:/usr/local/bin:/usr/sbin:/usr/bin:/sbin:/bin:/usr/games:/usr/local/games:/snap/bin\n",
      "\n",
      "# set PATH so it includes user's private bin directories\n",
      "PATH=\"$HOME/bin:$HOME/.local/bin:$PATH\"\n",
      "export PATH=~/bin:/opt/ros/kinetic/bin:/home/harry/bin:/home/harry/.local/bin:/usr/local/sbin:/usr/local/bin:/usr/sbin:/usr/bin:/sbin:/bin:/usr/games:/usr/local/games:/snap/bin\n",
      "export PATH=/home/harry/temp/Students for AI/bash:/home/harry/google-cloud-sdk/bin:/home/harry/bin:/opt/ros/kinetic/bin:/home/harry/bin:/home/harry/.local/bin:/usr/local/sbin:/usr/local/bin:/usr/sbin:/usr/bin:/sbin:/bin:/usr/games:/usr/local/games:/snap/bin\n",
      "export PATH=/home/harry/temp/Students for AI/bash:/home/harry/google-cloud-sdk/bin:/home/harry/bin:/opt/ros/kinetic/bin:/home/harry/bin:/home/harry/.local/bin:/usr/local/sbin:/usr/local/bin:/usr/sbin:/usr/bin:/sbin:/bin:/usr/games:/usr/local/games:/snap/bin\n"
     ]
    }
   ],
   "source": [
    "echo \"export PATH=$(pwd):$PATH\" >> ~/.profile # append this directory to the PATH file \n",
    "echo $PATH\n",
    "cat ~/.profile | tail -6\n"
   ]
  },
  {
   "cell_type": "code",
   "execution_count": 4,
   "metadata": {},
   "outputs": [
    {
     "name": "stdout",
     "output_type": "stream",
     "text": [
      "/home/harry/google-cloud-sdk/bin:/home/harry/bin:/opt/ros/kinetic/bin:/home/harry/bin:/home/harry/.local/bin:/usr/local/sbin:/usr/local/bin:/usr/sbin:/usr/bin:/sbin:/bin:/usr/games:/usr/local/games:/snap/bin}\n"
     ]
    }
   ],
   "source": [
    "echo $PATH"
   ]
  },
  {
   "cell_type": "markdown",
   "metadata": {},
   "source": [
    "### The Makefile\n",
    "\n",
    "Before GUIs, a computer only presented you with a shell prompt. \n",
    "\n",
    "The make command runs the makefile which describes relationships between different files and programs.\n",
    "\n",
    "A makefile has a structure like:"
   ]
  },
  {
   "cell_type": "code",
   "execution_count": null,
   "metadata": {},
   "outputs": [],
   "source": [
    "[target]:[dependencies]\n",
    "    [commands]"
   ]
  },
  {
   "cell_type": "markdown",
   "metadata": {},
   "source": [
    "The target is the file that you will be making. Dependencies are files that the target depends on to be built.\n",
    "\n",
    "An example makefile might look like:"
   ]
  },
  {
   "cell_type": "code",
   "execution_count": null,
   "metadata": {},
   "outputs": [],
   "source": [
    "all: myfile.txt readme.txt\n",
    "\n",
    "myfile.txt:\n",
    "    touch myfile.txt\n",
    "    \n",
    "readme.txt: contents.txt\n",
    "    echo \"Number of entries in this file:\" > readme.txt\n",
    "    wc -l contents.txt | egrep -0 \"[0-9]+\" >> readme.txt\n",
    "    \n",
    "clean:\n",
    "    rm myfile.txt\n",
    "    rm readme.txt"
   ]
  },
  {
   "cell_type": "markdown",
   "metadata": {},
   "source": [
    "When we run this makfile by calling the __make__ command with no arguments, it will make the target all. 'all' is a special target\n",
    "\n",
    "To run the makefile we call make with an argument of the name of the target that we want to make. The makefile specifies how this target will be made - by executing the commands for that target."
   ]
  },
  {
   "cell_type": "code",
   "execution_count": null,
   "metadata": {},
   "outputs": [],
   "source": [
    "make [target name]"
   ]
  },
  {
   "cell_type": "markdown",
   "metadata": {},
   "source": [
    "If we try to make the same file again, we will just be informed that that file is up to date. A target will not be up to date if any of its dependencies have been updated - in which case, the commands specified to make that target file will be run again when make is called for it. None of the commands for a target will be called if the dependencies have not changed in order to save computation."
   ]
  },
  {
   "cell_type": "markdown",
   "metadata": {},
   "source": [
    "## Customising your system\n",
    "\n",
    "Every command in the __.bash_profile__ file is run once you successfully enter your password, as a login shell.\n",
    "\n",
    "The command alias takes as an argument, a shorter, alternative name which you want to use to replace a longer command. Aliases can be useful in shortening or combining commands.\n",
    "\n",
    "#### eg\n",
    "\n",
    "__source__ is a command which runs the content of the file passed in as an argument.<br>\n",
    "This can essentially be used to import functionality of other files - such as functions defined within them.\n",
    "\n",
    "\n",
    "__./myfile.txt__ also runs the content of the file passed in as an argument, but does so in another shell rather than the current one"
   ]
  },
  {
   "cell_type": "markdown",
   "metadata": {},
   "source": [
    "## Output redirection\n",
    "\n",
    "__>__ - follows a command (on the same line), and sends the output to a location which is specified by a following argument. Replaces the content in that location.\n",
    "\n",
    "__>>__ - does the same as __>__ but appends the output to the file rather than replacing its contents.\n",
    "\n",
    "You can also redirect an output directly into another command as its argument, by using the __|__ (pipe) symbol. You can pipe as many commands together in a chain as you like."
   ]
  },
  {
   "cell_type": "markdown",
   "metadata": {},
   "source": [
    "## Editing and writing files\n",
    "\n",
    "You can edit or write a new file by running you chosen text editor.\n",
    "\n"
   ]
  },
  {
   "cell_type": "markdown",
   "metadata": {},
   "source": [
    "## Regular Expressions (regex/wildcards)\n",
    "\n",
    "Regular expressions allow you to filter files by selecting them based on certain rules (e.g. ends in .txt) rather than selecting each of them explicitly.\n",
    "\n",
    "The __\\*__ (star) character can represent any number of any characters (even none). E.g. ls \\*.txt will list all files in the working directory which end in .txt<br>\n",
    "Note that a regular expression will not treat files or directories any differently.\n",
    "You can place multiple regular expressions in one command. E.g. __\\*b\\*__ represents any file with the letter b anywhere within its name.\n",
    "\n",
    "# photo\n",
    "\n",
    "Metacharacters can represent other characters.\n",
    "\n",
    "## the following is probably better displayed in a table (reproduce metacharacters.png in images folder)\n",
    "\n",
    "__When searching through files (e.g. using egrep):__\n",
    "__.__ (period) - represents any single character <br>\n",
    "Many periods can appear in a regular expression and can even be adjacent to each other.\n",
    "e.g. \n",
    "# photo\n",
    "\n",
    "Metacharacters can also represent __quantifiers__ which specify the number of times a particular regular expression should appear.\n",
    "\n",
    "__+__ - one or more of the preceeding term followed by the proceeding term\n",
    "e.g. \n",
    "\n",
    "# photo\n",
    "\n",
    "__\\*__ - none or more of the preceeding term followed by the proceeding term\n",
    "i.e. as long \n",
    "e.g. \n",
    "\n",
    "# photo\n",
    "\n",
    "Curly braces can be used to specify an exact number of occurences required.\n",
    "i.e. \"a{3}\" = \"aaa\"\n",
    "s{2,3} returns lines of a file which contain either 2 or 3 adjacent instances of s\n",
    "If you want to search for a specific number of instances of a certain phrase then put that phrase in parentheses (called a __capturing group__) and use the curly brackets quantifier to specify the number of instances you want.\n",
    "e.g. (as){2} searches for lines containing 2 instances of \"as\"\n",
    "\n",
    "Capturing groups, quantifiers and other regular expressions can all be combined to increase the power of your searches.\n",
    "\n",
    "__\\w__ corresponds to all word characters (all letters, numbers, spaces and underscores).\n",
    "\n",
    "__\\d__ corresponds to all number characters\n",
    "\n",
    "__\\s__ corresponds to all space characters\n",
    "\n",
    "The respective __inverse sets__ of the above three commands are __\\W, \\D, \\S__. They search for lines which DO contain non-word, non-number and non-space characters (this is different to using the -v option with \\w for example, which would search for lines which DON'T contain word characters.\n",
    "\n",
    "__Create sets of characters__ which you want to search for using __[]__ (square brackets)<br>\n",
    "e.g. __egrep \"[abcde]\" file.txt__ searches for lines containing the first five letters of the alphabet\n",
    "\n",
    "Placing the __^__ (caret) symbol as the first element in a set specified in square brackets creates the __complement of the set__ (everything not in the set).<br>\n",
    "e.g. __egrep \"[^abcde]\" file.txt__ searches for lines containing elements which ARE NOT in the first five letters of the alphabet\n",
    "\n",
    "You could equally specify the first five letters of the alphabet using a __-__ to indicate a __range of characters__<br>\n",
    "e.g. __egrep \"[a-e]\" file.txt__ searches for lines containing the first five letters of the alphabet INCLUDING the limits.\n",
    "\n",
    "You can also combine ranges into a set by simply putting other ranges adjacent.\n",
    "e.g. __egrep \"[a-ev-z]\" file.txt__ searches for lines containing the first and last five letters of the alphabet\n",
    "\n",
    "# example\n",
    "\n",
    "__^__ represents the start of a line<br>\n",
    "e.g. __egrep \"^A\" file.txt__ searches a file for all lines beginning with a capital A\n",
    "\n",
    "__$__ represents the end of a line<br>\n",
    "e.g. __egrep \"A\\$\" file.txt__ searches a file for all lines ENDING with a capital A (NOTICE THE ORDER of the search expression)\n",
    "\n",
    "__|__ (pipe) is the OR operator\n",
    "e.g. __egrep \"abc|xyz|123\" file.txt__ would return lines of the file file.txt which contain either 'abc' or 'xyz' or '123'"
   ]
  },
  {
   "cell_type": "markdown",
   "metadata": {},
   "source": [
    "What other commands have you found that would be useful for us to share here? Let us know by clicking the suggestions icon."
   ]
  },
  {
   "cell_type": "markdown",
   "metadata": {},
   "source": [
    "## Shell Scripting\n",
    "\n",
    "Bash files have the .sh file extension.\n",
    "\n",
    "### Scripting guidelines\n",
    "\n",
    "#### Quietness\n",
    "\n",
    "#### Composability\n"
   ]
  },
  {
   "cell_type": "markdown",
   "metadata": {},
   "source": [
    "## Math\n",
    "\n",
    "__expr__ is a command that can be followed by a simple mathematical expression.\n",
    "\n",
    "__bc__ is the __b__ench __c__alculator and can be used to evaluate more complex expressions. Using the -l flag for __bc__ allows decimals. "
   ]
  },
  {
   "cell_type": "code",
   "execution_count": 7,
   "metadata": {},
   "outputs": [
    {
     "name": "stdout",
     "output_type": "stream",
     "text": [
      "3\n",
      "2\n",
      "20\n",
      "1/5\n",
      "0\n",
      "0\n",
      "3\n",
      "2\n",
      "3.14285714285714285714\n",
      "20\n"
     ]
    }
   ],
   "source": [
    "expr 1 + 2\n",
    "expr 20 % 6 # remainder\n",
    "expr $((4 * 5))\n",
    "\n",
    "expr 1/5 # does not get evaluated as a number\n",
    "expr 1 / 5\n",
    "expr 4 / 5 # rounded to zero\n",
    "\n",
    "echo \"22 / 7\" | bc \n",
    "echo \"16/7\" | bc # rounds to nearest int\n",
    "echo \"22 / 7\" | bc -l # use decimals\n",
    "echo \"4*5\" | bc"
   ]
  },
  {
   "cell_type": "markdown",
   "metadata": {},
   "source": [
    "You can assign variables using the equals sign. There must be no spaces. The value of a variable can be retrieved by stating its name after a dollar sign:"
   ]
  },
  {
   "cell_type": "code",
   "execution_count": 13,
   "metadata": {},
   "outputs": [
    {
     "name": "stdout",
     "output_type": "stream",
     "text": [
      "a variable\n",
      "55\n",
      "somevar: command not found\n"
     ]
    },
    {
     "ename": "",
     "evalue": "127",
     "output_type": "error",
     "traceback": []
    }
   ],
   "source": [
    "myvar=\"a variable\" # assign the variable \n",
    "echo $myvar # retrieve value \n",
    "\n",
    "newvar=55\n",
    "echo $newvar\n",
    "\n",
    "somevar = \"some variable\" # not allowed spaces"
   ]
  },
  {
   "cell_type": "markdown",
   "metadata": {},
   "source": [
    "We can edit variable values using the __let__ command."
   ]
  },
  {
   "cell_type": "code",
   "execution_count": 16,
   "metadata": {},
   "outputs": [
    {
     "name": "stdout",
     "output_type": "stream",
     "text": [
      "56\n",
      "newvar\n"
     ]
    }
   ],
   "source": [
    "let newnewvar=$newvar+1 # edit the variable with the let command\n",
    "echo $newnewvar # echo the variable\n",
    "echo newvar # echos the string - does not get the variable value"
   ]
  },
  {
   "cell_type": "markdown",
   "metadata": {},
   "source": [
    "### Substitution\n",
    "Substitute the result of a command in a variable by placing it in parentheses after a dollar sign.\n",
    "\n",
    "We can also substiture the result of a command in the middle of a string."
   ]
  },
  {
   "cell_type": "code",
   "execution_count": 20,
   "metadata": {},
   "outputs": [
    {
     "name": "stdout",
     "output_type": "stream",
     "text": [
      "/home/harry/temp/Students for AI/bash\n",
      "This working directory is /home/harry/temp/Students for AI/bash\n"
     ]
    }
   ],
   "source": [
    "mydir=$(pwd)\n",
    "echo $mydir\n",
    "echo \"This working directory is $(pwd)\""
   ]
  },
  {
   "cell_type": "markdown",
   "metadata": {},
   "source": [
    "### Automatically defined variables\n",
    "\n",
    "__$@__ is defined as the arguments which are passed to a script.\n",
    "\n",
    "__$1__ is the first variable passed in.\n",
    "\n",
    "__$2__ is the second variable passed in.\n",
    "\n",
    "__$#__ is the number of variables passed in."
   ]
  },
  {
   "cell_type": "code",
   "execution_count": 35,
   "metadata": {},
   "outputs": [
    {
     "name": "stdout",
     "output_type": "stream",
     "text": [
      "variables.sh: line 1: 0: command not found\n"
     ]
    },
    {
     "ename": "",
     "evalue": "127",
     "output_type": "error",
     "traceback": []
    }
   ],
   "source": [
    "# you can write these to a file with echo because they are evaluated\n",
    "\n",
    "#echo \"$@\" >> variables.sh # write $@ to a file \n",
    "#echo \"$1\" > variables.sh\n",
    "#echo \"$2\" > variables.sh\n",
    "#echo \"$#\" > variables.sh\n",
    "#cat variables.sh\n",
    "\n",
    "bash variables.sh helloarg1 arg2 # call that file with two arguments\n"
   ]
  },
  {
   "cell_type": "code",
   "execution_count": 36,
   "metadata": {},
   "outputs": [
    {
     "name": "stdout",
     "output_type": "stream",
     "text": [
      "0\n",
      "\n",
      "\n"
     ]
    }
   ],
   "source": [
    "cat variables.sh"
   ]
  },
  {
   "cell_type": "code",
   "execution_count": null,
   "metadata": {},
   "outputs": [
    {
     "name": "stdout",
     "output_type": "stream",
     "text": [
      "hello world\n",
      "$str1 $str2\n",
      "hello\\nworld\n",
      "$str1\n",
      "$str2\n"
     ]
    }
   ],
   "source": [
    "str1=\"hello\"\n",
    "str2=\"world\"\n",
    "\n",
    "echo \"$str1 $str2\" # DOUBLE quotes - variables evaluated\n",
    "echo '$str1 $str2' # SINGLE quotes - variables not evaluated\n",
    "\n",
    "echo $\"$str1\\n$str2\" # DOUBLE quotes - escapes not evaluated\n",
    "echo $'$str1\\n$str2' # $ then SINGLE quotes - escapes evaluated\n",
    "\n",
    "str=$str1\\\\n$str2\n",
    "echo $str"
   ]
  },
  {
   "cell_type": "markdown",
   "metadata": {},
   "source": [
    "### Taking input in scripts\n",
    "\n",
    "The __read__ command takes an argument that is a new variable name which is then assigned as the data entered by the user."
   ]
  },
  {
   "cell_type": "code",
   "execution_count": null,
   "metadata": {},
   "outputs": [],
   "source": [
    "read var\n",
    "echo \"You entered $var\""
   ]
  },
  {
   "cell_type": "markdown",
   "metadata": {},
   "source": [
    "### Logic\n",
    "\n",
    "When a bash script is executed it will return an __exit status__ which is an integer denoting whether the program was executed successfully (in which case a 0 is returned) or whether it encountered an error (in which case another positive integer will be returned).\n",
    "\n",
    "The exit status of the last run program is assigned to the variable __$?__, which can be evaluated"
   ]
  },
  {
   "cell_type": "markdown",
   "metadata": {},
   "source": [
    "Multiple commands can be entered on the same line by chaining them together with the __&& (AND)__ operator. Each subsequent command will only then be executed if the previous one has an exit status of 0 (all good/true)."
   ]
  },
  {
   "cell_type": "code",
   "execution_count": 31,
   "metadata": {},
   "outputs": [
    {
     "name": "stdout",
     "output_type": "stream",
     "text": [
      "this is lit\n",
      "im a geezer\n"
     ]
    },
    {
     "ename": "",
     "evalue": "1",
     "output_type": "error",
     "traceback": []
    }
   ],
   "source": [
    "false && echo herro\n",
    "true && true && true && true && echo 'this is lit'\n",
    "echo im a geezer && false && echo wassup"
   ]
  },
  {
   "cell_type": "markdown",
   "metadata": {},
   "source": [
    "The __|| (OR)__ operator does a similar thing."
   ]
  },
  {
   "cell_type": "markdown",
   "metadata": {},
   "source": [
    "Other logical operators:\n",
    "\n",
    "![title](images/logic_flags.png)\n",
    "\n",
    "Logical operators go in double square brackets:"
   ]
  },
  {
   "cell_type": "code",
   "execution_count": 6,
   "metadata": {
    "scrolled": true
   },
   "outputs": [
    {
     "name": "stdout",
     "output_type": "stream",
     "text": [
      "t\n",
      "f\n"
     ]
    }
   ],
   "source": [
    "[[ 3 -gt 4 ]] # is 3 greater than 4?\n",
    "[[ 4 -gt 3 ]]\n",
    "\n",
    "# evaluate the statements and then echo t if its exit status is 0 - i.e. it's true\n",
    "# otherwise echo f\n",
    "[[ 4 -gt 3 ]] && echo t || echo f\n",
    "[[ 3 -gt 4 ]] && echo t || echo f\n",
    " \n",
    "#[[3 -gt 4]] # will not work - needs spaces between [[ and 3 and 4 and ]]\n",
    "\n",
    "num=7\n",
    "[[ $num -gt 6]] && echo t || echo f`"
   ]
  },
  {
   "cell_type": "markdown",
   "metadata": {},
   "source": [
    "Unary logical operators can operate on a single value:\n",
    "\n",
    "The __-e__ flag tests whether a file exists"
   ]
  },
  {
   "cell_type": "code",
   "execution_count": 10,
   "metadata": {},
   "outputs": [
    {
     "name": "stdout",
     "output_type": "stream",
     "text": [
      "t\n",
      "f\n"
     ]
    }
   ],
   "source": [
    "[[ -e states.txt ]] && echo t || echo f\n",
    "[[ -e bigfile.txt ]] && echo t || echo f"
   ]
  },
  {
   "cell_type": "markdown",
   "metadata": {},
   "source": [
    "![title](images/more_logicals.png)"
   ]
  },
  {
   "cell_type": "code",
   "execution_count": 16,
   "metadata": {},
   "outputs": [
    {
     "name": "stdout",
     "output_type": "stream",
     "text": [
      "f\n",
      "t\n",
      "enter\n",
      "t\n"
     ]
    }
   ],
   "source": [
    "[[ bigfish =~ [aeou] ]] && echo t || echo f\n",
    "\n",
    "name=berg\n",
    "[[ $name =~ ^b.+g$ ]] && echo t || echo f\n",
    "\n",
    "password=663b\n",
    "[[ $password = 663b ]] && echo enter || echo fuck off\n",
    "\n",
    "[[ ! \"apple\" =~ ^b ]] && echo t || echo f# not apple ends in b"
   ]
  },
  {
   "cell_type": "markdown",
   "metadata": {},
   "source": [
    "__if__ statements are badass.\n",
    "\n",
    "Indent the commands that should run if it returns an exit status of 0 (true)\n",
    "\n",
    "the if statement must be followed by __then__ and closed by __fi__"
   ]
  },
  {
   "cell_type": "code",
   "execution_count": 39,
   "metadata": {},
   "outputs": [
    {
     "name": "stdout",
     "output_type": "stream",
     "text": [
      "num is 6\n",
      "The number is less than or equal to 6\n"
     ]
    }
   ],
   "source": [
    "num=6\n",
    "\n",
    "echo num is $num\n",
    " \n",
    "if [[ $num -gt 6 ]] && [[ $num -lt 10 ]]\n",
    "then\n",
    "    echo The number is between 6 and 10\n",
    "    if [[ $(($num % 2)) = 0 ]] # need the spaces and both brackets\n",
    "    then \n",
    "        echo $num is even\n",
    "    else\n",
    "        echo $num is odd\n",
    "    fi\n",
    "elif [[ $num -ge 10 ]]\n",
    "then \n",
    "    echo The number is greater than or equal to 10\n",
    "elif [[ $num -le 6 ]]\n",
    "then\n",
    "    echo The number is less than or equal to 6\n",
    "fi"
   ]
  },
  {
   "cell_type": "markdown",
   "metadata": {},
   "source": [
    "### Arrays\n",
    "\n",
    "Arrays are ordered lists of values.\n",
    "They are created by assigning a variable name to a list of elements in parentheses.\n",
    "\n",
    "Arrays can be retrieved using parameter expansion with curly braces.\n",
    "\n",
    "They can be indexed by following the array name with the element index (zero indexed)."
   ]
  },
  {
   "cell_type": "code",
   "execution_count": 28,
   "metadata": {},
   "outputs": [
    {
     "name": "stdout",
     "output_type": "stream",
     "text": [
      "book\n",
      "laptop\n",
      "book laptop money keys phone ipad\n",
      "book laptop money keys phone ipad\n",
      "book laptop gucci keys phone ipad\n",
      "keys phone ipad\n",
      "book laptop gucci keys phone ipad lambo G63\n",
      "4\n",
      "8\n"
     ]
    }
   ],
   "source": [
    "myarray=(book laptop money keys phone ipad)\n",
    "\n",
    "echo $myarray # only prints the first element\n",
    "echo ${myarray[1]} # index any element from 0\n",
    "echo ${myarray[*]} # print all array elements\n",
    "echo ${myarray[@]} # another way to print all array elements\n",
    "\n",
    "myarray[2]=gucci # reassign array element\n",
    "echo ${myarray[*]}\n",
    "\n",
    "echo ${myarray[*]2:3} # return slice from index 2, 3 elements long\n",
    "\n",
    "myarray+=(lambo G63) # append to array using +=\n",
    "echo ${myarray[*]}\n",
    "\n",
    "\n",
    "echo ${#myarray}\n",
    "echo ${#myarray[*]} # use hash and "
   ]
  },
  {
   "cell_type": "markdown",
   "metadata": {},
   "source": [
    "### Braces\n",
    "\n",
    "__Brace expansions__ can be used to create a sequence of letters or numbers:"
   ]
  },
  {
   "cell_type": "code",
   "execution_count": 4,
   "metadata": {},
   "outputs": [
    {
     "name": "stdout",
     "output_type": "stream",
     "text": [
      "0 1 2 3 4 5 6 7 8 9\n",
      "A B C D E F G H I J K L M N O P Q R S T U V W X Y Z\n",
      "4 5 6 7 8 9 10 11 12 13\n"
     ]
    }
   ],
   "source": [
    "echo {0..9}\n",
    "echo {A..Z}\n",
    "echo {4..13}"
   ]
  },
  {
   "cell_type": "code",
   "execution_count": 6,
   "metadata": {},
   "outputs": [
    {
     "name": "stdout",
     "output_type": "stream",
     "text": [
      "file0 file1 file2 file3 file4 file5 file6 file7 file8 file9\n",
      "0A 0B 1A 1B 2A 2B 3A 3B 4A 4B\n"
     ]
    }
   ],
   "source": [
    "echo file{0..9}\n",
    "echo {0..4}{A..B} # iterate over both"
   ]
  },
  {
   "cell_type": "code",
   "execution_count": 7,
   "metadata": {},
   "outputs": [
    {
     "name": "stdout",
     "output_type": "stream",
     "text": [
      "{3..7}\n",
      "3 4 5 6 7\n"
     ]
    }
   ],
   "source": [
    "start=3\n",
    "end=7\n",
    "echo {$start..$end}\n",
    "eval echo {$start..$end} # you need to use the eval command to evaluate variables in braces"
   ]
  },
  {
   "cell_type": "markdown",
   "metadata": {},
   "source": [
    "## Loops\n",
    "\n",
    "### For loops\n",
    "For loops iterate over sequences. Sequences can be brace expansions, explicit lists of strings, arrays or command substitutions."
   ]
  },
  {
   "cell_type": "code",
   "execution_count": 8,
   "metadata": {},
   "outputs": [
    {
     "name": "stdout",
     "output_type": "stream",
     "text": [
      "Number 1\n",
      "Number 2\n",
      "Number 3\n",
      "Number 4\n",
      "Number 5\n"
     ]
    }
   ],
   "source": [
    "# for loop with brace expansion as sequence\n",
    "\n",
    "for i in {1..5}\n",
    "do\n",
    "    echo \"Number $i\"\n",
    "done"
   ]
  },
  {
   "cell_type": "code",
   "execution_count": 11,
   "metadata": {},
   "outputs": [
    {
     "name": "stdout",
     "output_type": "stream",
     "text": [
      "The file is file1.txt\n",
      "The file is file2.txt\n",
      "The file is file3.txt\n"
     ]
    }
   ],
   "source": [
    "# for loop with explicit list sequence\n",
    "\n",
    "for file in file1.txt file2.txt file3.txt\n",
    "do\n",
    "    echo \"The file is $file\"\n",
    "done"
   ]
  },
  {
   "cell_type": "code",
   "execution_count": 15,
   "metadata": {},
   "outputs": [
    {
     "name": "stdout",
     "output_type": "stream",
     "text": [
      "An item i need is book\n",
      "An item i need is laptop\n",
      "An item i need is money\n",
      "An item i need is keys\n",
      "An item i need is phone\n",
      "An item i need is ipad\n"
     ]
    }
   ],
   "source": [
    "# for loop with array sequence\n",
    "\n",
    "myarray=(book laptop money keys phone ipad)\n",
    "\n",
    "\n",
    "for item in ${myarray[*]}\n",
    "do\n",
    "    echo An item i need is $item\n",
    "done"
   ]
  },
  {
   "cell_type": "code",
   "execution_count": 16,
   "metadata": {},
   "outputs": [
    {
     "name": "stdout",
     "output_type": "stream",
     "text": [
      "Things in this folder:\n",
      "arrays.sh\n",
      "getinput.sh\n",
      "images\n",
      "journal\n",
      "logic.sh\n",
      "manyfiles\n",
      "prog1.sh\n",
      "s2.txt\n",
      "small.txt\n",
      "states_copy.txt\n",
      "states.txt\n",
      "t\n",
      "The\n",
      "command\n",
      "line.ipynb\n",
      "variables.sh\n"
     ]
    }
   ],
   "source": [
    "# for loop with command substitution\n",
    "\n",
    "echo Things in this folder:\n",
    "for item in $(ls)\n",
    "do \n",
    "    echo $item\n",
    "done"
   ]
  },
  {
   "cell_type": "markdown",
   "metadata": {},
   "source": [
    "### While loops\n",
    "\n"
   ]
  },
  {
   "cell_type": "code",
   "execution_count": 27,
   "metadata": {},
   "outputs": [
    {
     "name": "stdout",
     "output_type": "stream",
     "text": [
      "Counting from 5 to 12\n",
      "Currently at 5\n",
      "Currently at 6\n",
      "Currently at 7\n",
      "Currently at 8\n",
      "Currently at 9\n",
      "Currently at 10\n",
      "Currently at 11\n",
      "Currently at 12\n"
     ]
    }
   ],
   "source": [
    "\n",
    "start=5\n",
    "end=12\n",
    "counter=$start\n",
    "echo Counting from $start to $end\n",
    "\n",
    "while true\n",
    "do\n",
    "    echo Currently at $counter\n",
    "    let counter=$counter+1\n",
    "    \n",
    "    if [[ $counter -gt $end ]]\n",
    "    then\n",
    "        break\n",
    "    fi\n",
    "done"
   ]
  },
  {
   "cell_type": "markdown",
   "metadata": {},
   "source": [
    "### Functions\n",
    "\n",
    "Functions can either compute and return values, or produce _side affects_ without producing an output.\n",
    "\n",
    "You can use $@ $# $1 $2 etc within functions to make use of arguments passed to them.\n",
    "\n",
    "\\$@ - array of all arguments <br>\n",
    "\\$1 - first argument<br>\n",
    "\\$2 - 2nd argument and so on...<br>\n",
    "\\$\\# - number of arguments"
   ]
  },
  {
   "cell_type": "code",
   "execution_count": 29,
   "metadata": {},
   "outputs": [
    {
     "name": "stdout",
     "output_type": "stream",
     "text": [
      "Harry is great\n"
     ]
    }
   ],
   "source": [
    "function myfunction {\n",
    "echo Harry is great\n",
    "}\n",
    "\n",
    "myfunction"
   ]
  },
  {
   "cell_type": "code",
   "execution_count": 42,
   "metadata": {},
   "outputs": [
    {
     "name": "stdout",
     "output_type": "stream",
     "text": [
      "Harry is awesome\n",
      "Harry is cool\n",
      "Harry is wicked\n"
     ]
    }
   ],
   "source": [
    "function goodfunction {\n",
    "    for i in $@ # for each argument passed in\n",
    "    do\n",
    "        echo Harry is $i # $1 then $2 then $3\n",
    "    done\n",
    "}\n",
    "\n",
    "goodfunction awesome cool wicked"
   ]
  },
  {
   "cell_type": "markdown",
   "metadata": {},
   "source": [
    "Functionality of bash files - such as functions defined within them can be imported into a current shell by the source command."
   ]
  },
  {
   "cell_type": "code",
   "execution_count": null,
   "metadata": {},
   "outputs": [],
   "source": [
    "source filewithfunctionin.sh\n",
    "# any functions or variables defined in that file can now be used in the terminal\n",
    "# variables become globally accessible if they are not declared as local"
   ]
  },
  {
   "cell_type": "markdown",
   "metadata": {},
   "source": [
    "We can declare variables that appear in a function as only being locally available:"
   ]
  },
  {
   "cell_type": "code",
   "execution_count": 49,
   "metadata": {},
   "outputs": [
    {
     "name": "stdout",
     "output_type": "stream",
     "text": [
      "global variable myvar before function: Hello there\n",
      "local myvar 55\n",
      "global variable myvar after function: Hello there\n"
     ]
    }
   ],
   "source": [
    "myvar='Hello there'\n",
    "echo global variable myvar before function: $myvar\n",
    "\n",
    "function newfunc {\n",
    "    local myvar=0\n",
    "    for num in {0..10}\n",
    "    do\n",
    "        let myvar=$myvar+num\n",
    "    done\n",
    "    echo local myvar $myvar\n",
    "}\n",
    "\n",
    "newfunc # call function\n",
    "\n",
    "echo global variable myvar after function: $myvar"
   ]
  },
  {
   "cell_type": "markdown",
   "metadata": {},
   "source": [
    "We can retrieve local variables from functions by echoing them and assigning them to global variables using command substitution."
   ]
  },
  {
   "cell_type": "code",
   "execution_count": 50,
   "metadata": {},
   "outputs": [
    {
     "name": "stdout",
     "output_type": "stream",
     "text": [
      "Hello there\n",
      "local myvar 55\n"
     ]
    }
   ],
   "source": [
    "echo $myvar\n",
    "myvar=$(newfunc) # 'local myvar 55' returned by echo within newfunc\n",
    "echo $myvar "
   ]
  },
  {
   "cell_type": "code",
   "execution_count": 13,
   "metadata": {},
   "outputs": [],
   "source": [
    "if [[ $((5 % 2)) = 0 ]]\n",
    "then\n",
    "    echo 1\n",
    "fi"
   ]
  },
  {
   "cell_type": "code",
   "execution_count": 5,
   "metadata": {},
   "outputs": [
    {
     "name": "stdout",
     "output_type": "stream",
     "text": [
      "5: command not found\n"
     ]
    },
    {
     "ename": "",
     "evalue": "127",
     "output_type": "error",
     "traceback": []
    }
   ],
   "source": [
    "if [[ 5 % 2\n"
   ]
  },
  {
   "cell_type": "markdown",
   "metadata": {},
   "source": [
    "# Cloud computing\n",
    "\n",
    "## Accessing other devices\n",
    "\n",
    "The __ssh__ (secure shell) command allows us to connect to remote devices over the internet.\n",
    "\n",
    "Every computer has an IP (internet protocol) address.\n",
    "\n",
    "When we ssh into another device, we have access to the commands that run in that shell. We can log out using the logout command."
   ]
  },
  {
   "cell_type": "code",
   "execution_count": 2,
   "metadata": {},
   "outputs": [
    {
     "name": "stdout",
     "output_type": "stream",
     "text": [
      "ssh: Could not resolve hostname [ip: Name or service not known\n",
      "bash: logout: not login shell: use `exit'\n"
     ]
    },
    {
     "ename": "",
     "evalue": "1",
     "output_type": "error",
     "traceback": []
    }
   ],
   "source": [
    "ssh [username]@[IP address] # to secure shell into a remote computer\n",
    "logout # log out of the remote device"
   ]
  },
  {
   "cell_type": "markdown",
   "metadata": {},
   "source": [
    "## Transferring data between devices\n",
    "\n",
    "We can use the __scp__ (secure copy) command to copyfiles from our local device and the remote one (or vice versa).\n",
    "\n",
    "scp is so called because it encrypts the data whilst it is being transferred across the web."
   ]
  },
  {
   "cell_type": "code",
   "execution_count": 3,
   "metadata": {},
   "outputs": [
    {
     "name": "stdout",
     "output_type": "stream",
     "text": [
      "device]: No such file or directory\n",
      "device]: No such file or directory\n"
     ]
    },
    {
     "ename": "",
     "evalue": "1",
     "output_type": "error",
     "traceback": []
    }
   ],
   "source": [
    "# copy files from remote server to local computer\n",
    "scp [username]@[IP address]:[path to file on remote device] [destination location on local device]\n",
    "\n",
    "# copy files from local computer to remote server\n",
    "scp [location on local device] [username]@[IP address]:[destination on remote device]"
   ]
  },
  {
   "cell_type": "markdown",
   "metadata": {},
   "source": [
    "## Downloading data from the web\n",
    "\n",
    "The __curl__ command allows you to send requests and information to other servers."
   ]
  },
  {
   "cell_type": "code",
   "execution_count": 5,
   "metadata": {},
   "outputs": [
    {
     "name": "stdout",
     "output_type": "stream",
     "text": [
      "  % Total    % Received % Xferd  Average Speed   Time    Time     Time  Current\n",
      "                                 Dload  Upload   Total   Spent    Left  Speed\n",
      "100    46  100    46    0     0     54      0 --:--:-- --:--:-- --:--:--    54\n",
      "{\n",
      "  \"CSS\": 2615,\n",
      "  \"HTML\": 314,\n",
      "  \"TeX\": 22\n",
      "}\n"
     ]
    }
   ],
   "source": [
    "curl -O https://api.github.com/repos/seankross/the-unix-workbench/languages\n",
    "\n",
    "head -n 5 languages"
   ]
  },
  {
   "cell_type": "markdown",
   "metadata": {},
   "source": [
    "Curl commands send HTTP requests. <br>\n",
    "A curl command with no flags sends a 'GET' request. This tells the server your IP address and asks the server to send some information about itself back to that IP address."
   ]
  },
  {
   "cell_type": "code",
   "execution_count": 6,
   "metadata": {},
   "outputs": [
    {
     "name": "stdout",
     "output_type": "stream",
     "text": [
      "{\n",
      "  \"args\": {}, \n",
      "  \"headers\": {\n",
      "    \"Accept\": \"*/*\", \n",
      "    \"Connection\": \"close\", \n",
      "    \"Host\": \"httpbin.org\", \n",
      "    \"User-Agent\": \"curl/7.47.0\"\n",
      "  }, \n",
      "  \"origin\": \"86.156.173.119\", \n",
      "  \"url\": \"http://httpbin.org/get\"\n",
      "}\n"
     ]
    }
   ],
   "source": [
    "curl http://httpbin.org/get"
   ]
  },
  {
   "cell_type": "code",
   "execution_count": null,
   "metadata": {},
   "outputs": [],
   "source": [
    "Origin - our IP address<br>\n",
    "Args - arguments of request<br>\n",
    "URL - where we sent the request to<br>\n",
    "Headers - contains several mroe pieces of info"
   ]
  },
  {
   "cell_type": "markdown",
   "metadata": {},
   "source": [
    "Provide arguments to a curl command by directly following the URL with a question mark, followed by the arguments, separated by & signs.`"
   ]
  },
  {
   "cell_type": "code",
   "execution_count": 7,
   "metadata": {},
   "outputs": [
    {
     "name": "stdout",
     "output_type": "stream",
     "text": [
      "{\n",
      "  \"args\": {\n",
      "    \"myarg\": \"\"\n",
      "  }, \n",
      "  \"headers\": {\n",
      "    \"Accept\": \"*/*\", \n",
      "    \"Connection\": \"close\", \n",
      "    \"Host\": \"httpbin.org\", \n",
      "    \"User-Agent\": \"curl/7.47.0\"\n",
      "  }, \n",
      "  \"origin\": \"86.156.173.119\", \n",
      "  \"url\": \"http://httpbin.org/get?myarg\"\n",
      "}\n"
     ]
    }
   ],
   "source": [
    "curl http://httpbin.org/get?myarg"
   ]
  },
  {
   "cell_type": "code",
   "execution_count": 8,
   "metadata": {},
   "outputs": [
    {
     "name": "stdout",
     "output_type": "stream",
     "text": [
      "[1] 18058\n",
      "[2] 18059\n"
     ]
    },
    {
     "ename": "",
     "evalue": "1",
     "output_type": "error",
     "traceback": []
    }
   ],
   "source": [
    "curl http://httpbin.org/get?arg1=myarg1&arg2=myarg3&arg3=myarg3"
   ]
  },
  {
   "cell_type": "code",
   "execution_count": null,
   "metadata": {
    "collapsed": true
   },
   "outputs": [],
   "source": [
    "curl <image location on web) > image.jpg"
   ]
  },
  {
   "cell_type": "markdown",
   "metadata": {},
   "source": [
    "Servers can be powered and connected to the web constantly. __Cron__ is a program that can be used to execute programs automatically from a server, e.g. at given time intervals.\n",
    "\n",
    "Cron is a daemon (something that runs continuously in the background)\n",
    "\n",
    "The __ps__ command lists running programs."
   ]
  },
  {
   "cell_type": "code",
   "execution_count": 4,
   "metadata": {},
   "outputs": [
    {
     "name": "stdout",
     "output_type": "stream",
     "text": [
      "  PID TTY          TIME CMD\n",
      "    1 ?        00:01:54 systemd\n",
      "    2 ?        00:00:00 kthreadd\n",
      "    4 ?        00:00:00 kworker/0:0H\n",
      "    6 ?        00:00:00 mm_percpu_wq\n",
      "    7 ?        00:00:01 ksoftirqd/0\n",
      "    8 ?        00:00:22 rcu_sched\n",
      "    9 ?        00:00:00 rcu_bh\n",
      "   10 ?        00:00:00 migration/0\n",
      "   11 ?        00:00:00 watchdog/0\n",
      "   12 ?        00:00:00 cpuhp/0\n",
      "   13 ?        00:00:00 cpuhp/1\n",
      "   14 ?        00:00:00 watchdog/1\n",
      "   15 ?        00:00:00 migration/1\n",
      "   16 ?        00:00:02 ksoftirqd/1\n",
      "   18 ?        00:00:00 kworker/1:0H\n",
      "   19 ?        00:00:00 cpuhp/2\n",
      "   20 ?        00:00:00 watchdog/2\n",
      "   21 ?        00:00:00 migration/2\n",
      "   22 ?        00:00:03 ksoftirqd/2\n",
      "   24 ?        00:00:00 kworker/2:0H\n",
      "   25 ?        00:00:00 cpuhp/3\n",
      "   26 ?        00:00:00 watchdog/3\n",
      "   27 ?        00:00:00 migration/3\n",
      "   28 ?        00:00:01 ksoftirqd/3\n",
      "   30 ?        00:00:00 kworker/3:0H\n",
      "   31 ?        00:00:00 kdevtmpfs\n",
      "   32 ?        00:00:00 netns\n",
      "   33 ?        00:00:00 rcu_tasks_kthre\n",
      "   34 ?        00:00:00 kauditd\n",
      "   38 ?        00:00:00 khungtaskd\n",
      "   39 ?        00:00:00 oom_reaper\n",
      "   40 ?        00:00:00 writeback\n",
      "   41 ?        00:00:00 kcompactd0\n",
      "   42 ?        00:00:00 ksmd\n",
      "   43 ?        00:00:00 khugepaged\n",
      "   44 ?        00:00:00 crypto\n",
      "   45 ?        00:00:00 kintegrityd\n",
      "   46 ?        00:00:00 kblockd\n",
      "   48 ?        00:00:00 ata_sff\n",
      "   49 ?        00:00:00 md\n",
      "   50 ?        00:00:00 edac-poller\n",
      "   52 ?        00:00:00 devfreq_wq\n",
      "   53 ?        00:00:00 watchdogd\n",
      "   56 ?        00:00:10 kswapd0\n",
      "   57 ?        00:00:00 ecryptfs-kthrea\n",
      "   99 ?        00:00:00 kthrotld\n",
      "  100 ?        00:00:00 acpi_thermal_pm\n",
      "  105 ?        00:00:00 ipv6_addrconf\n",
      "  114 ?        00:00:00 kstrp\n",
      "  135 ?        00:00:00 charger_manager\n",
      "  181 ?        00:00:00 scsi_eh_0\n",
      "  182 ?        00:00:00 scsi_tmf_0\n",
      "  183 ?        00:00:00 scsi_eh_1\n",
      "  184 ?        00:00:00 scsi_tmf_1\n",
      "  190 ?        00:00:07 kworker/2:1H\n",
      "  191 ?        00:00:00 kworker/u9:0\n",
      "  192 ?        00:00:08 i915/signal:0\n",
      "  193 ?        00:00:00 i915/signal:1\n",
      "  194 ?        00:00:00 i915/signal:2\n",
      "  195 ?        00:00:00 i915/signal:4\n",
      "  215 ?        00:00:00 scsi_eh_2\n",
      "  216 ?        00:00:00 scsi_tmf_2\n",
      "  217 ?        00:00:00 usb-storage\n",
      "  239 ?        00:00:07 jbd2/sda6-8\n",
      "  240 ?        00:00:00 ext4-rsv-conver\n",
      "  270 ?        00:00:45 systemd-journal\n",
      "  287 ?        00:00:00 kworker/3:1H\n",
      "  290 ?        00:00:00 kworker/0:1H\n",
      "  292 ?        00:00:00 kworker/1:1H\n",
      "  305 ?        00:00:52 systemd-udevd\n",
      "  352 ?        00:00:00 loop0\n",
      "  354 ?        00:00:00 loop1\n",
      "  355 ?        00:00:00 loop2\n",
      "  358 ?        00:00:00 loop3\n",
      "  359 ?        00:00:00 loop4\n",
      "  360 ?        00:00:00 loop5\n",
      "  362 ?        00:00:00 loop6\n",
      "  365 ?        00:00:00 loop7\n",
      "  368 ?        00:00:00 loop8\n",
      "  370 ?        00:00:00 loop9\n",
      "  439 ?        00:00:14 irq/51-DELL073B\n",
      "  440 ?        00:00:02 kworker/u8:2\n",
      "  447 ?        00:00:00 kworker/u9:1\n",
      "  467 ?        00:00:00 irq/150-mei_me\n",
      "  503 ?        00:00:00 cfg80211\n",
      "  529 pts/19   00:00:00 bash\n",
      "  585 ?        00:00:30 irq/151-iwlwifi\n",
      "  790 ?        00:00:00 systemd-timesyn\n",
      "  944 ?        00:00:06 iio-sensor-prox\n",
      "  945 ?        00:00:15 rsyslogd\n",
      "  950 ?        00:00:25 thermald\n",
      "  952 ?        00:00:22 systemd-logind\n",
      "  954 ?        00:00:04 ModemManager\n",
      "  959 ?        00:00:00 cron\n",
      "  964 ?        00:00:00 bluetoothd\n",
      "  972 ?        00:00:04 accounts-daemon\n",
      "  974 ?        00:06:45 dbus-daemon\n",
      " 1000 ?        00:00:07 avahi-daemon\n",
      " 1004 ?        00:00:01 acpid\n",
      " 1005 ?        00:00:01 snapd\n",
      " 1010 ?        00:06:02 NetworkManager\n",
      " 1074 ?        00:00:03 polkitd\n",
      " 1080 ?        00:00:00 avahi-daemon\n",
      " 1124 ?        00:00:00 irqbalance\n",
      " 1195 ?        00:00:00 lightdm\n",
      " 1301 tty7     00:08:42 Xorg\n",
      " 1362 ?        00:00:07 mysqld\n",
      " 1378 ?        00:00:10 redis-server\n",
      " 1467 ?        00:00:03 wpa_supplicant\n",
      " 1526 ?        00:08:27 dockerd\n",
      " 1527 ?        00:00:30 whoopsie\n",
      " 1554 tty1     00:00:00 agetty\n",
      " 1616 ?        00:00:53 docker-containe\n",
      " 1825 ?        00:00:00 lightdm\n",
      " 2092 ?        00:00:00 rtkit-daemon\n",
      " 2161 ?        00:00:01 upowerd\n",
      " 2226 ?        00:00:00 krfcommd\n",
      " 2234 ?        00:00:00 colord\n",
      " 2950 ?        00:00:00 docker-containe\n",
      " 2991 ?        00:00:01 portainer\n",
      " 3053 ?        00:00:00 docker-containe\n",
      " 3085 ?        00:01:03 mysqld\n",
      " 3282 ?        00:00:00 kworker/3:2\n",
      " 4140 ?        00:00:03 chrome\n",
      " 4774 ?        00:00:00 kworker/1:1\n",
      " 4798 ?        00:01:21 systemd\n",
      " 4799 ?        00:00:00 (sd-pam)\n",
      " 4805 ?        00:00:05 gnome-keyring-d\n",
      " 4812 ?        00:00:51 upstart\n",
      " 4892 ?        00:00:01 chrome\n",
      " 4907 ?        00:00:32 upstart-udev-br\n",
      " 4917 ?        00:00:16 dbus-daemon\n",
      " 4933 ?        00:00:00 window-stack-br\n",
      " 4953 ?        00:00:07 upstart-file-br\n",
      " 4958 ?        00:00:12 upstart-dbus-br\n",
      " 4962 ?        00:01:03 upstart-dbus-br\n",
      " 4974 ?        00:00:04 bamfdaemon\n",
      " 4976 ?        00:00:23 ibus-daemon\n",
      " 4990 ?        00:00:00 gvfsd\n",
      " 5001 ?        00:00:00 gvfsd-fuse\n",
      " 5004 ?        00:00:00 ibus-dconf\n",
      " 5007 ?        00:00:06 ibus-ui-gtk3\n",
      " 5014 ?        00:00:03 ibus-x11\n",
      " 5027 ?        00:00:05 ibus-engine-sim\n",
      " 5052 ?        00:00:00 dhclient\n",
      " 5058 ?        00:00:00 gpg-agent\n",
      " 5068 ?        00:00:06 hud-service\n",
      " 5070 ?        00:00:31 unity-settings-\n",
      " 5074 ?        00:00:00 at-spi-bus-laun\n",
      " 5077 ?        00:00:00 gnome-session-b\n",
      " 5085 ?        00:00:00 dbus-daemon\n",
      " 5093 ?        00:00:10 unity-panel-ser\n",
      " 5099 ?        00:00:02 at-spi2-registr\n",
      " 5137 ?        00:00:00 indicator-messa\n",
      " 5138 ?        00:00:00 indicator-bluet\n",
      " 5139 ?        00:00:00 indicator-power\n",
      " 5140 ?        00:00:00 indicator-datet\n",
      " 5141 ?        00:00:00 indicator-keybo\n",
      " 5142 ?        00:00:00 indicator-sound\n",
      " 5143 ?        00:00:00 indicator-print\n",
      " 5144 ?        00:00:00 indicator-sessi\n",
      " 5170 ?        00:00:00 dconf-service\n",
      " 5176 ?        00:00:00 indicator-appli\n",
      " 5194 ?        00:00:00 evolution-sourc\n",
      " 5207 ?        00:00:04 pulseaudio\n",
      " 5216 ?        00:00:00 syndaemon\n",
      " 5227 ?        00:10:16 compiz\n",
      " 5254 ?        00:00:00 evolution-calen\n",
      " 5266 ?        00:00:29 gnome-software\n",
      " 5268 ?        00:00:01 kworker/2:1\n",
      " 5274 ?        00:14:58 nm-applet\n",
      " 5280 ?        00:00:00 polkit-gnome-au\n",
      " 5284 ?        00:00:09 nautilus\n",
      " 5291 ?        00:00:00 redshift-gtk\n",
      " 5292 ?        00:00:00 unity-fallback-\n",
      " 5321 ?        00:02:16 gvfs-udisks2-vo\n",
      " 5329 ?        00:00:23 evolution-calen\n",
      " 5330 ?        00:00:14 udisksd\n",
      " 5373 ?        00:00:00 gvfs-goa-volume\n",
      " 5379 ?        00:00:00 gvfs-gphoto2-vo\n",
      " 5389 ?        00:00:00 redshift\n",
      " 5393 ?        00:00:00 evolution-addre\n",
      " 5395 ?        00:00:23 evolution-calen\n",
      " 5401 ?        00:00:00 gvfs-mtp-volume\n",
      " 5402 ?        00:00:35 geoclue\n",
      " 5424 ?        00:00:00 gvfs-afc-volume\n",
      " 5434 ?        00:00:23 evolution-addre\n",
      " 5452 ?        00:00:00 mount.exfat\n",
      " 5472 ?        00:00:08 dnsmasq\n",
      " 5580 ?        00:00:11 gvfsd-trash\n",
      " 5586 ?        00:00:00 notify-osd\n",
      " 5601 ?        00:00:00 gvfsd-metadata\n",
      " 5617 ?        00:00:00 kworker/1:2\n",
      " 5647 ?        00:01:04 chrome\n",
      " 5838 ?        00:00:00 kworker/0:3\n",
      " 7087 ?        00:23:47 chrome\n",
      " 7093 ?        00:00:00 cat\n",
      " 7094 ?        00:00:00 cat\n",
      " 7097 ?        00:00:00 chrome\n",
      " 7098 ?        00:00:00 nacl_helper\n",
      " 7101 ?        00:00:01 chrome\n",
      " 7126 ?        00:09:08 chrome\n",
      " 7156 ?        00:00:00 chrome\n",
      " 7218 ?        00:01:20 chrome\n",
      " 7276 ?        00:12:08 chrome\n",
      " 7371 ?        00:00:02 zeitgeist-datah\n",
      " 7378 ?        00:00:00 sh\n",
      " 7382 ?        00:00:19 zeitgeist-daemo\n",
      " 7389 ?        00:00:00 zeitgeist-fts\n",
      " 7421 ?        00:08:55 chrome\n",
      " 7566 ?        00:00:01 chrome\n",
      " 7715 ?        00:00:01 chrome\n",
      " 7873 ?        00:00:15 chrome\n",
      " 7901 ?        00:00:39 chrome\n",
      " 7902 ?        00:00:19 chrome\n",
      " 8067 ?        00:00:04 chrome\n",
      " 8383 ?        00:00:01 chrome\n",
      " 8409 ?        00:00:01 chrome\n",
      " 8422 ?        00:00:03 chrome\n",
      " 8493 ?        00:00:02 chrome\n",
      " 8739 ?        00:00:29 chrome\n",
      " 8878 ?        00:00:01 kworker/u8:0\n",
      " 9848 pts/18   00:00:00 bash\n",
      "10159 ?        00:00:00 update-notifier\n",
      "11710 pts/20   00:00:00 ps\n",
      "12142 ?        00:01:38 chrome\n",
      "12599 ?        00:00:00 kworker/0:0\n",
      "13476 pts/18   00:00:02 jupyter-noteboo\n",
      "13490 ?        00:00:00 gvfsd-http\n",
      "13834 ?        00:00:23 deja-dup-monito\n",
      "14673 ?        00:00:01 python3\n",
      "14741 pts/20   00:00:00 bash\n",
      "14898 ?        00:00:01 kworker/u8:3\n"
     ]
    },
    {
     "name": "stdout",
     "output_type": "stream",
     "text": [
      "15916 ?        00:00:00 kworker/2:0\n",
      "15952 ?        00:00:00 kworker/1:0\n",
      "18337 ?        00:00:00 kworker/3:1\n",
      "19997 ?        00:00:00 chrome\n",
      "22568 ?        00:00:00 kworker/u8:1\n",
      "23433 ?        00:00:00 kworker/3:4\n",
      "23491 ?        00:00:00 cupsd\n",
      "23493 ?        00:00:22 cups-browsed\n",
      "23502 ?        00:00:00 dbus\n",
      "23503 ?        00:00:00 dbus\n",
      "24779 ?        00:00:05 gnome-terminal-\n",
      "24786 pts/4    00:00:00 bash\n",
      "25282 ?        00:00:05 chrome\n",
      "25425 ?        00:00:00 kworker/3:3\n",
      "26000 ?        00:00:01 chrome\n",
      "27529 ?        00:00:01 kworker/2:2\n",
      "27567 ?        00:01:54 chrome\n",
      "28750 ?        00:00:00 kworker/2:4\n",
      "29327 ?        00:00:00 kworker/1:5\n",
      "29462 ?        00:00:00 kworker/3:0\n",
      "30338 ?        00:00:00 kworker/0:1\n",
      "31364 ?        00:00:00 kworker/0:2\n",
      "31626 ?        00:00:00 gvfsd-network\n",
      "32162 ?        00:00:00 gvfsd-dnssd\n",
      "32415 ?        00:00:00 unity-scope-hom\n",
      "32426 ?        00:00:00 unity-scope-loa\n",
      "32428 ?        00:00:00 unity-files-dae\n"
     ]
    }
   ],
   "source": [
    "ps -A"
   ]
  },
  {
   "cell_type": "code",
   "execution_count": 7,
   "metadata": {},
   "outputs": [
    {
     "name": "stdout",
     "output_type": "stream",
     "text": [
      "  959 ?        00:00:00 cron\n"
     ]
    }
   ],
   "source": [
    "ps -A | grep cron"
   ]
  },
  {
   "cell_type": "code",
   "execution_count": null,
   "metadata": {},
   "outputs": [
    {
     "name": "stdout",
     "output_type": "stream",
     "text": [
      "\n",
      "Select an editor.  To change later, run 'select-editor'.\n",
      "  1. /bin/ed\n",
      "  2. /bin/nano        <---- easiest\n",
      "  3. /usr/bin/vim.basic\n",
      "  4. /usr/bin/vim.tiny\n",
      "\n"
     ]
    }
   ],
   "source": [
    "select-editor\n",
    "[]"
   ]
  },
  {
   "cell_type": "markdown",
   "metadata": {},
   "source": [
    "Commands to be run by cron are specified in __crontab__. Crontab is a table with 6 columns:\n",
    "1. Minute (m) [00-59]\n",
    "2. Hour (h) [00-23]\n",
    "3. Day of month (dom) [01-31]\n",
    "4. Month (mon) [01-12]\n",
    "5. Day of week (dow) [0-6] (6 is sunday)\n",
    "6. Command to be run (command)\n",
    "\n",
    "Run __crontab -e__ to edit crontab in your default text editor (edit this by running select-editor and then entering a number corresponding to an editor shown).\n",
    "\n",
    "The entries into each column are separated by spaces on a single line.\n",
    "Some other character values are valid in the crontab. \n",
    "\n",
    "__*__ represents all of the possible values that that entry can take (e.g. * in the day column will run the command every day, subject to the other entries).\n",
    "\n",
    "__-__ can be used to specify a range of values (e.g. 0-5 in dow column = Monday through Friday)\n",
    "\n",
    "__,__ can be used for specifying lists of items by"
   ]
  },
  {
   "cell_type": "code",
   "execution_count": null,
   "metadata": {},
   "outputs": [],
   "source": [
    "# example of a crontab\n",
    "\n",
    "# m h dom mon dow command\n",
    "00-04 * * * * bash /path/to/script.sh # run every min for the first 5 mins of each hour\n",
    "00 00 * * 0,6"
   ]
  }
 ],
 "metadata": {
  "kernelspec": {
   "display_name": "Bash",
   "language": "bash",
   "name": "bash"
  },
  "language_info": {
   "codemirror_mode": "shell",
   "file_extension": ".sh",
   "mimetype": "text/x-sh",
   "name": "bash"
  }
 },
 "nbformat": 4,
 "nbformat_minor": 2
}
